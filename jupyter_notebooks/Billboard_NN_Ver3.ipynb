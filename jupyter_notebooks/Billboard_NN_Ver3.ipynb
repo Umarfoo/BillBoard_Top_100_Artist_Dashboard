{
 "cells": [
  {
   "cell_type": "markdown",
   "metadata": {},
   "source": [
    "![Billboard banner](https://www.clipartkey.com/mpngs/m/62-628657_billboard-logo-png-billboard-top-100.png)"
   ]
  },
  {
   "cell_type": "markdown",
   "metadata": {},
   "source": [
    "# Neural Network Machine Learning Model Version 3"
   ]
  },
  {
   "cell_type": "code",
   "execution_count": 1,
   "metadata": {},
   "outputs": [
    {
     "name": "stdout",
     "output_type": "stream",
     "text": [
      "All neccessary libraries imported\n"
     ]
    }
   ],
   "source": [
    "# Import the neccessary libraries\n",
    "import matplotlib.pyplot as plt\n",
    "import pandas as pd\n",
    "import scipy.stats as st\n",
    "import numpy as np\n",
    "print(\"All neccessary libraries imported\")"
   ]
  },
  {
   "cell_type": "code",
   "execution_count": 2,
   "metadata": {},
   "outputs": [],
   "source": [
    "# Set the seed value for the notebook so the results are reproducible\n",
    "from numpy.random import seed\n",
    "seed(42)"
   ]
  },
  {
   "cell_type": "code",
   "execution_count": 3,
   "metadata": {},
   "outputs": [],
   "source": [
    "# Raw data from Resources directory (change the link as needed)\n",
    "attribute_data = \"Resources/BillboardFromLast20/songAttributes_1999-2019.csv\""
   ]
  },
  {
   "cell_type": "code",
   "execution_count": 4,
   "metadata": {},
   "outputs": [
    {
     "name": "stdout",
     "output_type": "stream",
     "text": [
      "\u001b[1mThe shape of the attribute dataframe is (154931, 14):\u001b[0m\n"
     ]
    },
    {
     "data": {
      "text/html": [
       "<div>\n",
       "<style scoped>\n",
       "    .dataframe tbody tr th:only-of-type {\n",
       "        vertical-align: middle;\n",
       "    }\n",
       "\n",
       "    .dataframe tbody tr th {\n",
       "        vertical-align: top;\n",
       "    }\n",
       "\n",
       "    .dataframe thead th {\n",
       "        text-align: right;\n",
       "    }\n",
       "</style>\n",
       "<table border=\"1\" class=\"dataframe\">\n",
       "  <thead>\n",
       "    <tr style=\"text-align: right;\">\n",
       "      <th></th>\n",
       "      <th>Acousticness</th>\n",
       "      <th>Danceability</th>\n",
       "      <th>Duration</th>\n",
       "      <th>Energy</th>\n",
       "      <th>Explicit</th>\n",
       "      <th>Instrumentalness</th>\n",
       "      <th>Liveness</th>\n",
       "      <th>Loudness</th>\n",
       "      <th>Mode</th>\n",
       "      <th>Popularity</th>\n",
       "      <th>Speechiness</th>\n",
       "      <th>Tempo</th>\n",
       "      <th>TimeSignature</th>\n",
       "      <th>Valence</th>\n",
       "    </tr>\n",
       "  </thead>\n",
       "  <tbody>\n",
       "    <tr>\n",
       "      <th>0</th>\n",
       "      <td>0.000728</td>\n",
       "      <td>0.520</td>\n",
       "      <td>234947</td>\n",
       "      <td>0.904</td>\n",
       "      <td>0</td>\n",
       "      <td>0.010300</td>\n",
       "      <td>0.0634</td>\n",
       "      <td>-5.030</td>\n",
       "      <td>1</td>\n",
       "      <td>35</td>\n",
       "      <td>0.0309</td>\n",
       "      <td>106.022</td>\n",
       "      <td>4</td>\n",
       "      <td>0.365</td>\n",
       "    </tr>\n",
       "    <tr>\n",
       "      <th>1</th>\n",
       "      <td>0.018200</td>\n",
       "      <td>0.581</td>\n",
       "      <td>239573</td>\n",
       "      <td>0.709</td>\n",
       "      <td>0</td>\n",
       "      <td>0.000664</td>\n",
       "      <td>0.1740</td>\n",
       "      <td>-4.909</td>\n",
       "      <td>1</td>\n",
       "      <td>31</td>\n",
       "      <td>0.0282</td>\n",
       "      <td>120.027</td>\n",
       "      <td>4</td>\n",
       "      <td>0.408</td>\n",
       "    </tr>\n",
       "    <tr>\n",
       "      <th>2</th>\n",
       "      <td>0.000473</td>\n",
       "      <td>0.572</td>\n",
       "      <td>198400</td>\n",
       "      <td>0.918</td>\n",
       "      <td>0</td>\n",
       "      <td>0.000431</td>\n",
       "      <td>0.0977</td>\n",
       "      <td>-3.324</td>\n",
       "      <td>0</td>\n",
       "      <td>30</td>\n",
       "      <td>0.0559</td>\n",
       "      <td>144.061</td>\n",
       "      <td>4</td>\n",
       "      <td>0.370</td>\n",
       "    </tr>\n",
       "    <tr>\n",
       "      <th>3</th>\n",
       "      <td>0.000970</td>\n",
       "      <td>0.596</td>\n",
       "      <td>231453</td>\n",
       "      <td>0.661</td>\n",
       "      <td>0</td>\n",
       "      <td>0.000033</td>\n",
       "      <td>0.1130</td>\n",
       "      <td>-5.051</td>\n",
       "      <td>1</td>\n",
       "      <td>35</td>\n",
       "      <td>0.0254</td>\n",
       "      <td>111.975</td>\n",
       "      <td>4</td>\n",
       "      <td>0.183</td>\n",
       "    </tr>\n",
       "    <tr>\n",
       "      <th>4</th>\n",
       "      <td>0.000036</td>\n",
       "      <td>0.520</td>\n",
       "      <td>222520</td>\n",
       "      <td>0.808</td>\n",
       "      <td>0</td>\n",
       "      <td>0.000010</td>\n",
       "      <td>0.0800</td>\n",
       "      <td>-4.553</td>\n",
       "      <td>0</td>\n",
       "      <td>21</td>\n",
       "      <td>0.0318</td>\n",
       "      <td>92.721</td>\n",
       "      <td>4</td>\n",
       "      <td>0.666</td>\n",
       "    </tr>\n",
       "  </tbody>\n",
       "</table>\n",
       "</div>"
      ],
      "text/plain": [
       "   Acousticness  Danceability  Duration  Energy  Explicit  Instrumentalness  \\\n",
       "0      0.000728         0.520    234947   0.904         0          0.010300   \n",
       "1      0.018200         0.581    239573   0.709         0          0.000664   \n",
       "2      0.000473         0.572    198400   0.918         0          0.000431   \n",
       "3      0.000970         0.596    231453   0.661         0          0.000033   \n",
       "4      0.000036         0.520    222520   0.808         0          0.000010   \n",
       "\n",
       "   Liveness  Loudness  Mode  Popularity  Speechiness    Tempo  TimeSignature  \\\n",
       "0    0.0634    -5.030     1          35       0.0309  106.022              4   \n",
       "1    0.1740    -4.909     1          31       0.0282  120.027              4   \n",
       "2    0.0977    -3.324     0          30       0.0559  144.061              4   \n",
       "3    0.1130    -5.051     1          35       0.0254  111.975              4   \n",
       "4    0.0800    -4.553     0          21       0.0318   92.721              4   \n",
       "\n",
       "   Valence  \n",
       "0    0.365  \n",
       "1    0.408  \n",
       "2    0.370  \n",
       "3    0.183  \n",
       "4    0.666  "
      ]
     },
     "execution_count": 4,
     "metadata": {},
     "output_type": "execute_result"
    }
   ],
   "source": [
    "# Read the wildfire data into a dataframe\n",
    "df_attributes = pd.read_csv(attribute_data)\n",
    "# Drop the columns with string values\n",
    "df_attributes.drop(columns=['Unnamed: 0','Album','Artist','Name'],inplace=True)\n",
    "# Convert the boolean column to integer\n",
    "df_attributes[\"Explicit\"] = df_attributes[\"Explicit\"].astype(int)\n",
    "# Let's see the shape and the first 5 rows of the dataframe\n",
    "print('\\033[1m'+\"The shape of the {} dataframe is {}:\" .format(\"attribute\",df_attributes.shape)+'\\033[0m')\n",
    "df_attributes.head()"
   ]
  },
  {
   "cell_type": "code",
   "execution_count": 5,
   "metadata": {},
   "outputs": [
    {
     "name": "stdout",
     "output_type": "stream",
     "text": [
      "['Acousticness', 'Danceability', 'Duration', 'Energy', 'Explicit', 'Instrumentalness', 'Liveness', 'Loudness', 'Mode', 'Popularity', 'Speechiness', 'Tempo', 'TimeSignature', 'Valence']\n"
     ]
    }
   ],
   "source": [
    "# Let's see the column names in the dataframe\n",
    "print(df_attributes.columns.tolist())"
   ]
  },
  {
   "cell_type": "code",
   "execution_count": 6,
   "metadata": {},
   "outputs": [
    {
     "name": "stdout",
     "output_type": "stream",
     "text": [
      "<class 'pandas.core.frame.DataFrame'>\n",
      "RangeIndex: 154931 entries, 0 to 154930\n",
      "Data columns (total 14 columns):\n",
      " #   Column            Non-Null Count   Dtype  \n",
      "---  ------            --------------   -----  \n",
      " 0   Acousticness      154931 non-null  float64\n",
      " 1   Danceability      154931 non-null  float64\n",
      " 2   Duration          154931 non-null  int64  \n",
      " 3   Energy            154931 non-null  float64\n",
      " 4   Explicit          154931 non-null  int32  \n",
      " 5   Instrumentalness  154931 non-null  float64\n",
      " 6   Liveness          154931 non-null  float64\n",
      " 7   Loudness          154931 non-null  float64\n",
      " 8   Mode              154931 non-null  int64  \n",
      " 9   Popularity        154931 non-null  int64  \n",
      " 10  Speechiness       154931 non-null  float64\n",
      " 11  Tempo             154931 non-null  float64\n",
      " 12  TimeSignature     154931 non-null  int64  \n",
      " 13  Valence           154931 non-null  float64\n",
      "dtypes: float64(9), int32(1), int64(4)\n",
      "memory usage: 16.0 MB\n"
     ]
    }
   ],
   "source": [
    "# Basic information of the df_fire dataframe by the info() method\n",
    "df_attributes.info()"
   ]
  },
  {
   "cell_type": "markdown",
   "metadata": {},
   "source": [
    "## Create a new column for popularity rank"
   ]
  },
  {
   "cell_type": "code",
   "execution_count": 7,
   "metadata": {
    "scrolled": true
   },
   "outputs": [
    {
     "data": {
      "text/html": [
       "<div>\n",
       "<style scoped>\n",
       "    .dataframe tbody tr th:only-of-type {\n",
       "        vertical-align: middle;\n",
       "    }\n",
       "\n",
       "    .dataframe tbody tr th {\n",
       "        vertical-align: top;\n",
       "    }\n",
       "\n",
       "    .dataframe thead th {\n",
       "        text-align: right;\n",
       "    }\n",
       "</style>\n",
       "<table border=\"1\" class=\"dataframe\">\n",
       "  <thead>\n",
       "    <tr style=\"text-align: right;\">\n",
       "      <th></th>\n",
       "      <th>Acousticness</th>\n",
       "      <th>Danceability</th>\n",
       "      <th>Duration</th>\n",
       "      <th>Energy</th>\n",
       "      <th>Explicit</th>\n",
       "      <th>Instrumentalness</th>\n",
       "      <th>Liveness</th>\n",
       "      <th>Loudness</th>\n",
       "      <th>Mode</th>\n",
       "      <th>Popularity</th>\n",
       "      <th>Speechiness</th>\n",
       "      <th>Tempo</th>\n",
       "      <th>TimeSignature</th>\n",
       "      <th>Valence</th>\n",
       "      <th>Rank</th>\n",
       "    </tr>\n",
       "  </thead>\n",
       "  <tbody>\n",
       "    <tr>\n",
       "      <th>0</th>\n",
       "      <td>0.000728</td>\n",
       "      <td>0.520</td>\n",
       "      <td>234947</td>\n",
       "      <td>0.904</td>\n",
       "      <td>0</td>\n",
       "      <td>0.010300</td>\n",
       "      <td>0.0634</td>\n",
       "      <td>-5.030</td>\n",
       "      <td>1</td>\n",
       "      <td>35</td>\n",
       "      <td>0.0309</td>\n",
       "      <td>106.022</td>\n",
       "      <td>4</td>\n",
       "      <td>0.365</td>\n",
       "      <td>0</td>\n",
       "    </tr>\n",
       "    <tr>\n",
       "      <th>1</th>\n",
       "      <td>0.018200</td>\n",
       "      <td>0.581</td>\n",
       "      <td>239573</td>\n",
       "      <td>0.709</td>\n",
       "      <td>0</td>\n",
       "      <td>0.000664</td>\n",
       "      <td>0.1740</td>\n",
       "      <td>-4.909</td>\n",
       "      <td>1</td>\n",
       "      <td>31</td>\n",
       "      <td>0.0282</td>\n",
       "      <td>120.027</td>\n",
       "      <td>4</td>\n",
       "      <td>0.408</td>\n",
       "      <td>0</td>\n",
       "    </tr>\n",
       "    <tr>\n",
       "      <th>2</th>\n",
       "      <td>0.000473</td>\n",
       "      <td>0.572</td>\n",
       "      <td>198400</td>\n",
       "      <td>0.918</td>\n",
       "      <td>0</td>\n",
       "      <td>0.000431</td>\n",
       "      <td>0.0977</td>\n",
       "      <td>-3.324</td>\n",
       "      <td>0</td>\n",
       "      <td>30</td>\n",
       "      <td>0.0559</td>\n",
       "      <td>144.061</td>\n",
       "      <td>4</td>\n",
       "      <td>0.370</td>\n",
       "      <td>0</td>\n",
       "    </tr>\n",
       "    <tr>\n",
       "      <th>3</th>\n",
       "      <td>0.000970</td>\n",
       "      <td>0.596</td>\n",
       "      <td>231453</td>\n",
       "      <td>0.661</td>\n",
       "      <td>0</td>\n",
       "      <td>0.000033</td>\n",
       "      <td>0.1130</td>\n",
       "      <td>-5.051</td>\n",
       "      <td>1</td>\n",
       "      <td>35</td>\n",
       "      <td>0.0254</td>\n",
       "      <td>111.975</td>\n",
       "      <td>4</td>\n",
       "      <td>0.183</td>\n",
       "      <td>0</td>\n",
       "    </tr>\n",
       "    <tr>\n",
       "      <th>4</th>\n",
       "      <td>0.000036</td>\n",
       "      <td>0.520</td>\n",
       "      <td>222520</td>\n",
       "      <td>0.808</td>\n",
       "      <td>0</td>\n",
       "      <td>0.000010</td>\n",
       "      <td>0.0800</td>\n",
       "      <td>-4.553</td>\n",
       "      <td>0</td>\n",
       "      <td>21</td>\n",
       "      <td>0.0318</td>\n",
       "      <td>92.721</td>\n",
       "      <td>4</td>\n",
       "      <td>0.666</td>\n",
       "      <td>0</td>\n",
       "    </tr>\n",
       "  </tbody>\n",
       "</table>\n",
       "</div>"
      ],
      "text/plain": [
       "   Acousticness  Danceability  Duration  Energy  Explicit  Instrumentalness  \\\n",
       "0      0.000728         0.520    234947   0.904         0          0.010300   \n",
       "1      0.018200         0.581    239573   0.709         0          0.000664   \n",
       "2      0.000473         0.572    198400   0.918         0          0.000431   \n",
       "3      0.000970         0.596    231453   0.661         0          0.000033   \n",
       "4      0.000036         0.520    222520   0.808         0          0.000010   \n",
       "\n",
       "   Liveness  Loudness  Mode  Popularity  Speechiness    Tempo  TimeSignature  \\\n",
       "0    0.0634    -5.030     1          35       0.0309  106.022              4   \n",
       "1    0.1740    -4.909     1          31       0.0282  120.027              4   \n",
       "2    0.0977    -3.324     0          30       0.0559  144.061              4   \n",
       "3    0.1130    -5.051     1          35       0.0254  111.975              4   \n",
       "4    0.0800    -4.553     0          21       0.0318   92.721              4   \n",
       "\n",
       "   Valence  Rank  \n",
       "0    0.365     0  \n",
       "1    0.408     0  \n",
       "2    0.370     0  \n",
       "3    0.183     0  \n",
       "4    0.666     0  "
      ]
     },
     "execution_count": 7,
     "metadata": {},
     "output_type": "execute_result"
    }
   ],
   "source": [
    "# Create a new column that bins the popularity from 0-9\n",
    "df_attributes[\"Rank\"] = df_attributes[\"Popularity\"].apply(lambda x: 1 if x <=15 else 0)\n",
    "# Let's see the new column\n",
    "df_attributes.head()"
   ]
  },
  {
   "cell_type": "markdown",
   "metadata": {},
   "source": [
    "## Creating input and output datasets"
   ]
  },
  {
   "cell_type": "code",
   "execution_count": 8,
   "metadata": {},
   "outputs": [
    {
     "name": "stdout",
     "output_type": "stream",
     "text": [
      "\u001b[1mShape of the X dataset: (154931, 13)\u001b[0m\n",
      "\u001b[1mShape of the y dataset: (154931, 1)\u001b[0m\n"
     ]
    }
   ],
   "source": [
    "import numpy as np\n",
    "# Create a copy of df_attributes\n",
    "df_copy = df_attributes.copy()\n",
    "# Create X and Y numpy arrays\n",
    "y = df_copy[['Rank']].to_numpy() # Keep only the rank column\n",
    "df_copy.drop(columns=['Popularity','Rank'],inplace=True) # Keep only the attributes\n",
    "X = df_copy.to_numpy() # Convert the dataframe to numpy array\n",
    "print('\\033[1m'+\"Shape of the X dataset: {}\".format(X.shape)+'\\033[0m')\n",
    "print('\\033[1m'+\"Shape of the y dataset: {}\".format(y.shape)+'\\033[0m')"
   ]
  },
  {
   "cell_type": "markdown",
   "metadata": {},
   "source": [
    "## Creating train and test splits"
   ]
  },
  {
   "cell_type": "code",
   "execution_count": 9,
   "metadata": {},
   "outputs": [
    {
     "name": "stdout",
     "output_type": "stream",
     "text": [
      "Train set: (123944, 13) (123944, 1)\n",
      "Test set: (30987, 13) (30987, 1)\n"
     ]
    }
   ],
   "source": [
    "# Use train_test_split to create training and testing data\n",
    "from sklearn.model_selection import train_test_split\n",
    "X_train, X_test, y_train, y_test = train_test_split(X, y, test_size=0.2, random_state=42)\n",
    "# Shape of the train & test set\n",
    "print ('Train set:', X_train.shape,  y_train.shape)\n",
    "print ('Test set:', X_test.shape,  y_test.shape)"
   ]
  },
  {
   "cell_type": "markdown",
   "metadata": {},
   "source": [
    "## Data Preprocessing"
   ]
  },
  {
   "cell_type": "code",
   "execution_count": 10,
   "metadata": {},
   "outputs": [],
   "source": [
    "# Importing StandardScaler from sklearn library\n",
    "from sklearn.preprocessing import StandardScaler\n",
    "X_scaler = StandardScaler().fit(X_train)"
   ]
  },
  {
   "cell_type": "code",
   "execution_count": 11,
   "metadata": {},
   "outputs": [],
   "source": [
    "# Scaling both test and train data for X dataset\n",
    "X_train_scaled = X_scaler.transform(X_train)\n",
    "X_test_scaled = X_scaler.transform(X_test)"
   ]
  },
  {
   "cell_type": "code",
   "execution_count": 12,
   "metadata": {},
   "outputs": [],
   "source": [
    "# Install tensorflow module (if not available) by uncommenting below\n",
    "#!pip install keras\n",
    "#!pip install --upgrade tensorflow"
   ]
  },
  {
   "cell_type": "markdown",
   "metadata": {},
   "source": [
    "## One hot encoding of labels"
   ]
  },
  {
   "cell_type": "code",
   "execution_count": 13,
   "metadata": {},
   "outputs": [],
   "source": [
    "from tensorflow.keras.utils import to_categorical\n",
    "# Converting the labels (y_train and y_test) to categorical values\n",
    "y_train_categorical = to_categorical(y_train)\n",
    "y_test_categorical = to_categorical(y_test)"
   ]
  },
  {
   "cell_type": "markdown",
   "metadata": {},
   "source": [
    "## Defining the model architecture"
   ]
  },
  {
   "cell_type": "code",
   "execution_count": 14,
   "metadata": {},
   "outputs": [],
   "source": [
    "from tensorflow.keras.models import Sequential\n",
    "# Creating a sequential model\n",
    "model = Sequential()"
   ]
  },
  {
   "cell_type": "markdown",
   "metadata": {},
   "source": [
    "## Defining the input of the model"
   ]
  },
  {
   "cell_type": "code",
   "execution_count": 15,
   "metadata": {},
   "outputs": [],
   "source": [
    "from tensorflow.keras.layers import Dense\n",
    "number_inputs = 13\n",
    "number_hidden_nodes = 39\n",
    "model.add(Dense(units=number_hidden_nodes,\n",
    "                activation='tanh', input_dim=number_inputs))"
   ]
  },
  {
   "cell_type": "markdown",
   "metadata": {},
   "source": [
    "## Defining the output of the model"
   ]
  },
  {
   "cell_type": "code",
   "execution_count": 16,
   "metadata": {},
   "outputs": [],
   "source": [
    "# Defining the output layer\n",
    "number_classes = 2 # Labels we are trying to predict (either 'Hit' or 'Miss')\n",
    "model.add(Dense(units=number_classes, activation='softmax'))"
   ]
  },
  {
   "cell_type": "markdown",
   "metadata": {},
   "source": [
    "## Summary of the model"
   ]
  },
  {
   "cell_type": "code",
   "execution_count": 17,
   "metadata": {},
   "outputs": [
    {
     "name": "stdout",
     "output_type": "stream",
     "text": [
      "Model: \"sequential\"\n",
      "_________________________________________________________________\n",
      "Layer (type)                 Output Shape              Param #   \n",
      "=================================================================\n",
      "dense (Dense)                (None, 39)                546       \n",
      "_________________________________________________________________\n",
      "dense_1 (Dense)              (None, 2)                 80        \n",
      "=================================================================\n",
      "Total params: 626\n",
      "Trainable params: 626\n",
      "Non-trainable params: 0\n",
      "_________________________________________________________________\n"
     ]
    }
   ],
   "source": [
    "model.summary()"
   ]
  },
  {
   "cell_type": "markdown",
   "metadata": {},
   "source": [
    "## Compile the model"
   ]
  },
  {
   "cell_type": "code",
   "execution_count": 18,
   "metadata": {},
   "outputs": [],
   "source": [
    "# Use categorical crossentropy for categorical data and mean squared error for regression\n",
    "model.compile(optimizer='adam',\n",
    "              loss='categorical_crossentropy',\n",
    "              metrics=['accuracy'])"
   ]
  },
  {
   "cell_type": "markdown",
   "metadata": {},
   "source": [
    "## Training the model"
   ]
  },
  {
   "cell_type": "code",
   "execution_count": 19,
   "metadata": {},
   "outputs": [
    {
     "name": "stdout",
     "output_type": "stream",
     "text": [
      "Epoch 1/100\n",
      "3874/3874 - 4s - loss: 0.6690 - accuracy: 0.5939\n",
      "Epoch 2/100\n",
      "3874/3874 - 5s - loss: 0.6612 - accuracy: 0.6054\n",
      "Epoch 3/100\n",
      "3874/3874 - 4s - loss: 0.6587 - accuracy: 0.6095\n",
      "Epoch 4/100\n",
      "3874/3874 - 4s - loss: 0.6571 - accuracy: 0.6110\n",
      "Epoch 5/100\n",
      "3874/3874 - 5s - loss: 0.6565 - accuracy: 0.6132\n",
      "Epoch 6/100\n",
      "3874/3874 - 5s - loss: 0.6558 - accuracy: 0.6126\n",
      "Epoch 7/100\n",
      "3874/3874 - 5s - loss: 0.6551 - accuracy: 0.6148\n",
      "Epoch 8/100\n",
      "3874/3874 - 5s - loss: 0.6547 - accuracy: 0.6146\n",
      "Epoch 9/100\n",
      "3874/3874 - 5s - loss: 0.6543 - accuracy: 0.6156\n",
      "Epoch 10/100\n",
      "3874/3874 - 4s - loss: 0.6538 - accuracy: 0.6160\n",
      "Epoch 11/100\n",
      "3874/3874 - 5s - loss: 0.6534 - accuracy: 0.6158\n",
      "Epoch 12/100\n",
      "3874/3874 - 5s - loss: 0.6531 - accuracy: 0.6174\n",
      "Epoch 13/100\n",
      "3874/3874 - 5s - loss: 0.6530 - accuracy: 0.6175\n",
      "Epoch 14/100\n",
      "3874/3874 - 5s - loss: 0.6527 - accuracy: 0.6175\n",
      "Epoch 15/100\n",
      "3874/3874 - 5s - loss: 0.6524 - accuracy: 0.6174\n",
      "Epoch 16/100\n",
      "3874/3874 - 5s - loss: 0.6522 - accuracy: 0.6183\n",
      "Epoch 17/100\n",
      "3874/3874 - 5s - loss: 0.6520 - accuracy: 0.6184\n",
      "Epoch 18/100\n",
      "3874/3874 - 5s - loss: 0.6519 - accuracy: 0.6182\n",
      "Epoch 19/100\n",
      "3874/3874 - 5s - loss: 0.6517 - accuracy: 0.6176\n",
      "Epoch 20/100\n",
      "3874/3874 - 5s - loss: 0.6516 - accuracy: 0.6184\n",
      "Epoch 21/100\n",
      "3874/3874 - 5s - loss: 0.6514 - accuracy: 0.6189\n",
      "Epoch 22/100\n",
      "3874/3874 - 5s - loss: 0.6514 - accuracy: 0.6184\n",
      "Epoch 23/100\n",
      "3874/3874 - 6s - loss: 0.6512 - accuracy: 0.6186\n",
      "Epoch 24/100\n",
      "3874/3874 - 5s - loss: 0.6511 - accuracy: 0.6189\n",
      "Epoch 25/100\n",
      "3874/3874 - 6s - loss: 0.6509 - accuracy: 0.6187\n",
      "Epoch 26/100\n",
      "3874/3874 - 6s - loss: 0.6508 - accuracy: 0.6194\n",
      "Epoch 27/100\n",
      "3874/3874 - 5s - loss: 0.6510 - accuracy: 0.6188\n",
      "Epoch 28/100\n",
      "3874/3874 - 5s - loss: 0.6506 - accuracy: 0.6192\n",
      "Epoch 29/100\n",
      "3874/3874 - 5s - loss: 0.6507 - accuracy: 0.6189\n",
      "Epoch 30/100\n",
      "3874/3874 - 5s - loss: 0.6508 - accuracy: 0.6185\n",
      "Epoch 31/100\n",
      "3874/3874 - 5s - loss: 0.6504 - accuracy: 0.6199\n",
      "Epoch 32/100\n",
      "3874/3874 - 5s - loss: 0.6505 - accuracy: 0.6197\n",
      "Epoch 33/100\n",
      "3874/3874 - 5s - loss: 0.6501 - accuracy: 0.6193\n",
      "Epoch 34/100\n",
      "3874/3874 - 5s - loss: 0.6503 - accuracy: 0.6188\n",
      "Epoch 35/100\n",
      "3874/3874 - 6s - loss: 0.6504 - accuracy: 0.6202\n",
      "Epoch 36/100\n",
      "3874/3874 - 5s - loss: 0.6502 - accuracy: 0.6198\n",
      "Epoch 37/100\n",
      "3874/3874 - 5s - loss: 0.6502 - accuracy: 0.6189\n",
      "Epoch 38/100\n",
      "3874/3874 - 5s - loss: 0.6501 - accuracy: 0.6197\n",
      "Epoch 39/100\n",
      "3874/3874 - 5s - loss: 0.6501 - accuracy: 0.6195\n",
      "Epoch 40/100\n",
      "3874/3874 - 5s - loss: 0.6500 - accuracy: 0.6189\n",
      "Epoch 41/100\n",
      "3874/3874 - 5s - loss: 0.6500 - accuracy: 0.6198\n",
      "Epoch 42/100\n",
      "3874/3874 - 4s - loss: 0.6499 - accuracy: 0.6197\n",
      "Epoch 43/100\n",
      "3874/3874 - 4s - loss: 0.6498 - accuracy: 0.6199\n",
      "Epoch 44/100\n",
      "3874/3874 - 5s - loss: 0.6498 - accuracy: 0.6191\n",
      "Epoch 45/100\n",
      "3874/3874 - 5s - loss: 0.6499 - accuracy: 0.6204\n",
      "Epoch 46/100\n",
      "3874/3874 - 5s - loss: 0.6498 - accuracy: 0.6203\n",
      "Epoch 47/100\n",
      "3874/3874 - 5s - loss: 0.6498 - accuracy: 0.6211\n",
      "Epoch 48/100\n",
      "3874/3874 - 5s - loss: 0.6496 - accuracy: 0.6207\n",
      "Epoch 49/100\n",
      "3874/3874 - 5s - loss: 0.6495 - accuracy: 0.6205\n",
      "Epoch 50/100\n",
      "3874/3874 - 5s - loss: 0.6495 - accuracy: 0.6212\n",
      "Epoch 51/100\n",
      "3874/3874 - 5s - loss: 0.6496 - accuracy: 0.6206\n",
      "Epoch 52/100\n",
      "3874/3874 - 5s - loss: 0.6495 - accuracy: 0.6200\n",
      "Epoch 53/100\n",
      "3874/3874 - 5s - loss: 0.6494 - accuracy: 0.6217\n",
      "Epoch 54/100\n",
      "3874/3874 - 5s - loss: 0.6493 - accuracy: 0.6209\n",
      "Epoch 55/100\n",
      "3874/3874 - 5s - loss: 0.6494 - accuracy: 0.6205\n",
      "Epoch 56/100\n",
      "3874/3874 - 5s - loss: 0.6495 - accuracy: 0.6209\n",
      "Epoch 57/100\n",
      "3874/3874 - 5s - loss: 0.6495 - accuracy: 0.6218\n",
      "Epoch 58/100\n",
      "3874/3874 - 8s - loss: 0.6493 - accuracy: 0.6217\n",
      "Epoch 59/100\n",
      "3874/3874 - 6s - loss: 0.6493 - accuracy: 0.6199\n",
      "Epoch 60/100\n",
      "3874/3874 - 6s - loss: 0.6494 - accuracy: 0.6206\n",
      "Epoch 61/100\n",
      "3874/3874 - 5s - loss: 0.6493 - accuracy: 0.6212\n",
      "Epoch 62/100\n",
      "3874/3874 - 5s - loss: 0.6492 - accuracy: 0.6229\n",
      "Epoch 63/100\n",
      "3874/3874 - 5s - loss: 0.6492 - accuracy: 0.6216\n",
      "Epoch 64/100\n",
      "3874/3874 - 4s - loss: 0.6491 - accuracy: 0.6211\n",
      "Epoch 65/100\n",
      "3874/3874 - 5s - loss: 0.6492 - accuracy: 0.6215\n",
      "Epoch 66/100\n",
      "3874/3874 - 5s - loss: 0.6490 - accuracy: 0.6224\n",
      "Epoch 67/100\n",
      "3874/3874 - 5s - loss: 0.6491 - accuracy: 0.6213\n",
      "Epoch 68/100\n",
      "3874/3874 - 5s - loss: 0.6490 - accuracy: 0.6218\n",
      "Epoch 69/100\n",
      "3874/3874 - 5s - loss: 0.6491 - accuracy: 0.6213\n",
      "Epoch 70/100\n",
      "3874/3874 - 5s - loss: 0.6489 - accuracy: 0.6221\n",
      "Epoch 71/100\n",
      "3874/3874 - 5s - loss: 0.6490 - accuracy: 0.6219\n",
      "Epoch 72/100\n",
      "3874/3874 - 5s - loss: 0.6491 - accuracy: 0.6211\n",
      "Epoch 73/100\n",
      "3874/3874 - 5s - loss: 0.6489 - accuracy: 0.6221\n",
      "Epoch 74/100\n",
      "3874/3874 - 5s - loss: 0.6490 - accuracy: 0.6216\n",
      "Epoch 75/100\n",
      "3874/3874 - 5s - loss: 0.6491 - accuracy: 0.6213\n",
      "Epoch 76/100\n",
      "3874/3874 - 5s - loss: 0.6491 - accuracy: 0.6212\n",
      "Epoch 77/100\n",
      "3874/3874 - 5s - loss: 0.6489 - accuracy: 0.6217\n",
      "Epoch 78/100\n",
      "3874/3874 - 5s - loss: 0.6490 - accuracy: 0.6225\n",
      "Epoch 79/100\n",
      "3874/3874 - 5s - loss: 0.6489 - accuracy: 0.6220\n",
      "Epoch 80/100\n",
      "3874/3874 - 5s - loss: 0.6489 - accuracy: 0.6209\n",
      "Epoch 81/100\n",
      "3874/3874 - 5s - loss: 0.6489 - accuracy: 0.6222\n",
      "Epoch 82/100\n",
      "3874/3874 - 6s - loss: 0.6490 - accuracy: 0.6216\n",
      "Epoch 83/100\n",
      "3874/3874 - 5s - loss: 0.6489 - accuracy: 0.6227\n",
      "Epoch 84/100\n",
      "3874/3874 - 5s - loss: 0.6487 - accuracy: 0.6222\n",
      "Epoch 85/100\n",
      "3874/3874 - 5s - loss: 0.6487 - accuracy: 0.6233\n",
      "Epoch 86/100\n",
      "3874/3874 - 5s - loss: 0.6488 - accuracy: 0.6221\n",
      "Epoch 87/100\n",
      "3874/3874 - 4s - loss: 0.6490 - accuracy: 0.6220\n",
      "Epoch 88/100\n",
      "3874/3874 - 5s - loss: 0.6488 - accuracy: 0.6230\n",
      "Epoch 89/100\n",
      "3874/3874 - 4s - loss: 0.6488 - accuracy: 0.6220\n",
      "Epoch 90/100\n",
      "3874/3874 - 4s - loss: 0.6490 - accuracy: 0.6214\n",
      "Epoch 91/100\n",
      "3874/3874 - 4s - loss: 0.6490 - accuracy: 0.6211\n",
      "Epoch 92/100\n",
      "3874/3874 - 4s - loss: 0.6488 - accuracy: 0.6219\n",
      "Epoch 93/100\n",
      "3874/3874 - 4s - loss: 0.6485 - accuracy: 0.6219\n",
      "Epoch 94/100\n",
      "3874/3874 - 4s - loss: 0.6486 - accuracy: 0.6227\n",
      "Epoch 95/100\n",
      "3874/3874 - 4s - loss: 0.6488 - accuracy: 0.6220\n",
      "Epoch 96/100\n",
      "3874/3874 - 4s - loss: 0.6489 - accuracy: 0.6222\n",
      "Epoch 97/100\n",
      "3874/3874 - 4s - loss: 0.6487 - accuracy: 0.6230\n",
      "Epoch 98/100\n",
      "3874/3874 - 4s - loss: 0.6488 - accuracy: 0.6226\n",
      "Epoch 99/100\n",
      "3874/3874 - 4s - loss: 0.6488 - accuracy: 0.6213\n",
      "Epoch 100/100\n",
      "3874/3874 - 4s - loss: 0.6486 - accuracy: 0.6225\n"
     ]
    },
    {
     "data": {
      "text/plain": [
       "<tensorflow.python.keras.callbacks.History at 0x196f4ef8048>"
      ]
     },
     "execution_count": 19,
     "metadata": {},
     "output_type": "execute_result"
    }
   ],
   "source": [
    "# Fit (train) the model\n",
    "model.fit(\n",
    "    X_train_scaled,\n",
    "    y_train_categorical,\n",
    "    epochs=100, # Hundred iterations or loops\n",
    "    shuffle=True,\n",
    "    verbose=2\n",
    ")"
   ]
  },
  {
   "cell_type": "markdown",
   "metadata": {},
   "source": [
    "## Evaluating the model using the test data"
   ]
  },
  {
   "cell_type": "code",
   "execution_count": 20,
   "metadata": {},
   "outputs": [
    {
     "name": "stdout",
     "output_type": "stream",
     "text": [
      "969/969 - 1s - loss: 0.6559 - accuracy: 0.6170\n",
      "Loss: 0.6558882594108582, Accuracy: 0.6169683933258057\n"
     ]
    }
   ],
   "source": [
    "# Evaluate the model using the testing data\n",
    "model_loss, model_accuracy = model.evaluate(\n",
    "    X_test_scaled, y_test_categorical, verbose=2)\n",
    "print(f\"Loss: {model_loss}, Accuracy: {model_accuracy}\")"
   ]
  },
  {
   "cell_type": "markdown",
   "metadata": {},
   "source": [
    "# Deep Learning"
   ]
  },
  {
   "cell_type": "code",
   "execution_count": 21,
   "metadata": {},
   "outputs": [],
   "source": [
    "# In this model we use an additional hidden layer of 39 nodes\n",
    "deep_model = Sequential()\n",
    "deep_model.add(Dense(units=39, activation='tanh', input_dim=13))\n",
    "deep_model.add(Dense(units=39, activation='tanh'))\n",
    "deep_model.add(Dense(units=2, activation='softmax'))"
   ]
  },
  {
   "cell_type": "markdown",
   "metadata": {},
   "source": [
    "## Summary of Deep model"
   ]
  },
  {
   "cell_type": "code",
   "execution_count": 22,
   "metadata": {
    "scrolled": true
   },
   "outputs": [
    {
     "name": "stdout",
     "output_type": "stream",
     "text": [
      "Model: \"sequential_1\"\n",
      "_________________________________________________________________\n",
      "Layer (type)                 Output Shape              Param #   \n",
      "=================================================================\n",
      "dense_2 (Dense)              (None, 39)                546       \n",
      "_________________________________________________________________\n",
      "dense_3 (Dense)              (None, 39)                1560      \n",
      "_________________________________________________________________\n",
      "dense_4 (Dense)              (None, 2)                 80        \n",
      "=================================================================\n",
      "Total params: 2,186\n",
      "Trainable params: 2,186\n",
      "Non-trainable params: 0\n",
      "_________________________________________________________________\n"
     ]
    }
   ],
   "source": [
    "deep_model.summary()"
   ]
  },
  {
   "cell_type": "markdown",
   "metadata": {},
   "source": [
    "## Compile the deep model"
   ]
  },
  {
   "cell_type": "code",
   "execution_count": 23,
   "metadata": {},
   "outputs": [],
   "source": [
    "# Compiling the deep model\n",
    "deep_model.compile(optimizer='adam',\n",
    "                   loss='categorical_crossentropy',\n",
    "                   metrics=['accuracy'])"
   ]
  },
  {
   "cell_type": "markdown",
   "metadata": {},
   "source": [
    "## Training the deep model"
   ]
  },
  {
   "cell_type": "code",
   "execution_count": 24,
   "metadata": {
    "scrolled": true
   },
   "outputs": [
    {
     "name": "stdout",
     "output_type": "stream",
     "text": [
      "Epoch 1/100\n",
      "3874/3874 - 4s - loss: 0.6658 - accuracy: 0.5983\n",
      "Epoch 2/100\n",
      "3874/3874 - 4s - loss: 0.6590 - accuracy: 0.6095\n",
      "Epoch 3/100\n",
      "3874/3874 - 5s - loss: 0.6565 - accuracy: 0.6127\n",
      "Epoch 4/100\n",
      "3874/3874 - 4s - loss: 0.6553 - accuracy: 0.6156\n",
      "Epoch 5/100\n",
      "3874/3874 - 4s - loss: 0.6539 - accuracy: 0.6167\n",
      "Epoch 6/100\n",
      "3874/3874 - 4s - loss: 0.6531 - accuracy: 0.6172\n",
      "Epoch 7/100\n",
      "3874/3874 - 5s - loss: 0.6525 - accuracy: 0.6192\n",
      "Epoch 8/100\n",
      "3874/3874 - 4s - loss: 0.6521 - accuracy: 0.6185\n",
      "Epoch 9/100\n",
      "3874/3874 - 4s - loss: 0.6515 - accuracy: 0.6198\n",
      "Epoch 10/100\n",
      "3874/3874 - 5s - loss: 0.6510 - accuracy: 0.6202\n",
      "Epoch 11/100\n",
      "3874/3874 - 4s - loss: 0.6504 - accuracy: 0.6205\n",
      "Epoch 12/100\n",
      "3874/3874 - 5s - loss: 0.6499 - accuracy: 0.6214\n",
      "Epoch 13/100\n",
      "3874/3874 - 5s - loss: 0.6494 - accuracy: 0.6212\n",
      "Epoch 14/100\n",
      "3874/3874 - 5s - loss: 0.6493 - accuracy: 0.6226\n",
      "Epoch 15/100\n",
      "3874/3874 - 4s - loss: 0.6488 - accuracy: 0.6234\n",
      "Epoch 16/100\n",
      "3874/3874 - 5s - loss: 0.6483 - accuracy: 0.6226\n",
      "Epoch 17/100\n",
      "3874/3874 - 5s - loss: 0.6480 - accuracy: 0.6232\n",
      "Epoch 18/100\n",
      "3874/3874 - 5s - loss: 0.6480 - accuracy: 0.6238\n",
      "Epoch 19/100\n",
      "3874/3874 - 4s - loss: 0.6475 - accuracy: 0.6233\n",
      "Epoch 20/100\n",
      "3874/3874 - 4s - loss: 0.6473 - accuracy: 0.6234\n",
      "Epoch 21/100\n",
      "3874/3874 - 5s - loss: 0.6471 - accuracy: 0.6251\n",
      "Epoch 22/100\n",
      "3874/3874 - 4s - loss: 0.6466 - accuracy: 0.6251\n",
      "Epoch 23/100\n",
      "3874/3874 - 4s - loss: 0.6464 - accuracy: 0.6259\n",
      "Epoch 24/100\n",
      "3874/3874 - 4s - loss: 0.6462 - accuracy: 0.6264\n",
      "Epoch 25/100\n",
      "3874/3874 - 5s - loss: 0.6460 - accuracy: 0.6262\n",
      "Epoch 26/100\n",
      "3874/3874 - 4s - loss: 0.6459 - accuracy: 0.6261\n",
      "Epoch 27/100\n",
      "3874/3874 - 4s - loss: 0.6455 - accuracy: 0.6256\n",
      "Epoch 28/100\n",
      "3874/3874 - 5s - loss: 0.6452 - accuracy: 0.6267\n",
      "Epoch 29/100\n",
      "3874/3874 - 4s - loss: 0.6450 - accuracy: 0.6274\n",
      "Epoch 30/100\n",
      "3874/3874 - 4s - loss: 0.6448 - accuracy: 0.6270\n",
      "Epoch 31/100\n",
      "3874/3874 - 4s - loss: 0.6448 - accuracy: 0.6269\n",
      "Epoch 32/100\n",
      "3874/3874 - 5s - loss: 0.6446 - accuracy: 0.6269\n",
      "Epoch 33/100\n",
      "3874/3874 - 4s - loss: 0.6441 - accuracy: 0.6280\n",
      "Epoch 34/100\n",
      "3874/3874 - 4s - loss: 0.6441 - accuracy: 0.6272\n",
      "Epoch 35/100\n",
      "3874/3874 - 5s - loss: 0.6437 - accuracy: 0.6285\n",
      "Epoch 36/100\n",
      "3874/3874 - 4s - loss: 0.6437 - accuracy: 0.6282\n",
      "Epoch 37/100\n",
      "3874/3874 - 5s - loss: 0.6433 - accuracy: 0.6291\n",
      "Epoch 38/100\n",
      "3874/3874 - 5s - loss: 0.6434 - accuracy: 0.6282\n",
      "Epoch 39/100\n",
      "3874/3874 - 6s - loss: 0.6430 - accuracy: 0.6286\n",
      "Epoch 40/100\n",
      "3874/3874 - 5s - loss: 0.6430 - accuracy: 0.6287\n",
      "Epoch 41/100\n",
      "3874/3874 - 5s - loss: 0.6427 - accuracy: 0.6292\n",
      "Epoch 42/100\n",
      "3874/3874 - 5s - loss: 0.6426 - accuracy: 0.6298\n",
      "Epoch 43/100\n",
      "3874/3874 - 5s - loss: 0.6428 - accuracy: 0.6296\n",
      "Epoch 44/100\n",
      "3874/3874 - 5s - loss: 0.6426 - accuracy: 0.6298\n",
      "Epoch 45/100\n",
      "3874/3874 - 5s - loss: 0.6422 - accuracy: 0.6305\n",
      "Epoch 46/100\n",
      "3874/3874 - 5s - loss: 0.6420 - accuracy: 0.6290\n",
      "Epoch 47/100\n",
      "3874/3874 - 5s - loss: 0.6420 - accuracy: 0.6292\n",
      "Epoch 48/100\n",
      "3874/3874 - 5s - loss: 0.6419 - accuracy: 0.6304\n",
      "Epoch 49/100\n",
      "3874/3874 - 5s - loss: 0.6417 - accuracy: 0.6298\n",
      "Epoch 50/100\n",
      "3874/3874 - 5s - loss: 0.6414 - accuracy: 0.6296\n",
      "Epoch 51/100\n",
      "3874/3874 - 5s - loss: 0.6413 - accuracy: 0.6304\n",
      "Epoch 52/100\n",
      "3874/3874 - 5s - loss: 0.6412 - accuracy: 0.6303\n",
      "Epoch 53/100\n",
      "3874/3874 - 5s - loss: 0.6413 - accuracy: 0.6304\n",
      "Epoch 54/100\n",
      "3874/3874 - 5s - loss: 0.6410 - accuracy: 0.6303\n",
      "Epoch 55/100\n",
      "3874/3874 - 5s - loss: 0.6410 - accuracy: 0.6309\n",
      "Epoch 56/100\n",
      "3874/3874 - 5s - loss: 0.6409 - accuracy: 0.6315\n",
      "Epoch 57/100\n",
      "3874/3874 - 5s - loss: 0.6404 - accuracy: 0.6321\n",
      "Epoch 58/100\n",
      "3874/3874 - 5s - loss: 0.6406 - accuracy: 0.6315\n",
      "Epoch 59/100\n",
      "3874/3874 - 5s - loss: 0.6405 - accuracy: 0.6311\n",
      "Epoch 60/100\n",
      "3874/3874 - 5s - loss: 0.6403 - accuracy: 0.6316\n",
      "Epoch 61/100\n",
      "3874/3874 - 5s - loss: 0.6403 - accuracy: 0.6320\n",
      "Epoch 62/100\n",
      "3874/3874 - 5s - loss: 0.6401 - accuracy: 0.6324\n",
      "Epoch 63/100\n",
      "3874/3874 - 5s - loss: 0.6401 - accuracy: 0.6313\n",
      "Epoch 64/100\n",
      "3874/3874 - 5s - loss: 0.6399 - accuracy: 0.6325\n",
      "Epoch 65/100\n",
      "3874/3874 - 5s - loss: 0.6398 - accuracy: 0.6318\n",
      "Epoch 66/100\n",
      "3874/3874 - 5s - loss: 0.6398 - accuracy: 0.6325\n",
      "Epoch 67/100\n",
      "3874/3874 - 5s - loss: 0.6397 - accuracy: 0.6322\n",
      "Epoch 68/100\n",
      "3874/3874 - 5s - loss: 0.6397 - accuracy: 0.6332\n",
      "Epoch 69/100\n",
      "3874/3874 - 5s - loss: 0.6395 - accuracy: 0.6327\n",
      "Epoch 70/100\n",
      "3874/3874 - 4s - loss: 0.6394 - accuracy: 0.6328\n",
      "Epoch 71/100\n",
      "3874/3874 - 5s - loss: 0.6395 - accuracy: 0.6325\n",
      "Epoch 72/100\n",
      "3874/3874 - 5s - loss: 0.6391 - accuracy: 0.6331\n",
      "Epoch 73/100\n",
      "3874/3874 - 5s - loss: 0.6391 - accuracy: 0.6323\n",
      "Epoch 74/100\n",
      "3874/3874 - 5s - loss: 0.6389 - accuracy: 0.6336\n",
      "Epoch 75/100\n",
      "3874/3874 - 5s - loss: 0.6391 - accuracy: 0.6346\n",
      "Epoch 76/100\n",
      "3874/3874 - 5s - loss: 0.6391 - accuracy: 0.6340\n",
      "Epoch 77/100\n",
      "3874/3874 - 6s - loss: 0.6390 - accuracy: 0.6340\n",
      "Epoch 78/100\n",
      "3874/3874 - 6s - loss: 0.6388 - accuracy: 0.6330\n",
      "Epoch 79/100\n",
      "3874/3874 - 6s - loss: 0.6387 - accuracy: 0.6342\n",
      "Epoch 80/100\n",
      "3874/3874 - 6s - loss: 0.6386 - accuracy: 0.6342\n",
      "Epoch 81/100\n",
      "3874/3874 - 7s - loss: 0.6384 - accuracy: 0.6344\n",
      "Epoch 82/100\n",
      "3874/3874 - 7s - loss: 0.6383 - accuracy: 0.6340\n",
      "Epoch 83/100\n",
      "3874/3874 - 5s - loss: 0.6384 - accuracy: 0.6351\n",
      "Epoch 84/100\n",
      "3874/3874 - 5s - loss: 0.6382 - accuracy: 0.6337\n",
      "Epoch 85/100\n",
      "3874/3874 - 5s - loss: 0.6382 - accuracy: 0.6342\n",
      "Epoch 86/100\n",
      "3874/3874 - 6s - loss: 0.6381 - accuracy: 0.6336\n",
      "Epoch 87/100\n",
      "3874/3874 - 5s - loss: 0.6381 - accuracy: 0.6343\n",
      "Epoch 88/100\n",
      "3874/3874 - 5s - loss: 0.6379 - accuracy: 0.6348\n",
      "Epoch 89/100\n",
      "3874/3874 - 6s - loss: 0.6379 - accuracy: 0.6352\n",
      "Epoch 90/100\n",
      "3874/3874 - 5s - loss: 0.6380 - accuracy: 0.6348\n",
      "Epoch 91/100\n",
      "3874/3874 - 5s - loss: 0.6377 - accuracy: 0.6353\n",
      "Epoch 92/100\n",
      "3874/3874 - 5s - loss: 0.6378 - accuracy: 0.6361\n",
      "Epoch 93/100\n",
      "3874/3874 - 5s - loss: 0.6378 - accuracy: 0.6363\n",
      "Epoch 94/100\n",
      "3874/3874 - 5s - loss: 0.6376 - accuracy: 0.6351\n",
      "Epoch 95/100\n",
      "3874/3874 - 6s - loss: 0.6376 - accuracy: 0.6360\n",
      "Epoch 96/100\n",
      "3874/3874 - 5s - loss: 0.6376 - accuracy: 0.6360\n",
      "Epoch 97/100\n",
      "3874/3874 - 5s - loss: 0.6373 - accuracy: 0.6353\n",
      "Epoch 98/100\n",
      "3874/3874 - 7s - loss: 0.6373 - accuracy: 0.6358\n",
      "Epoch 99/100\n",
      "3874/3874 - 7s - loss: 0.6371 - accuracy: 0.6357\n",
      "Epoch 100/100\n",
      "3874/3874 - 6s - loss: 0.6372 - accuracy: 0.6362\n"
     ]
    },
    {
     "data": {
      "text/plain": [
       "<tensorflow.python.keras.callbacks.History at 0x196f68e4048>"
      ]
     },
     "execution_count": 24,
     "metadata": {},
     "output_type": "execute_result"
    }
   ],
   "source": [
    "# Fit (train) the deep model\n",
    "deep_model.fit(\n",
    "    X_train_scaled,\n",
    "    y_train_categorical,\n",
    "    epochs=100,\n",
    "    shuffle=True,\n",
    "    verbose=2\n",
    ")"
   ]
  },
  {
   "cell_type": "code",
   "execution_count": 25,
   "metadata": {},
   "outputs": [
    {
     "name": "stdout",
     "output_type": "stream",
     "text": [
      "969/969 - 1s - loss: 0.6578 - accuracy: 0.6129\n",
      "Deep Neural Network - Loss: 0.6578496098518372, Accuracy: 0.6129021644592285\n"
     ]
    }
   ],
   "source": [
    "# Evaluate the deep model using the testing data\n",
    "model_loss, model_accuracy = deep_model.evaluate(\n",
    "    X_test_scaled, y_test_categorical, verbose=2)\n",
    "print(f\"Deep Neural Network - Loss: {model_loss}, Accuracy: {model_accuracy}\")"
   ]
  },
  {
   "cell_type": "markdown",
   "metadata": {},
   "source": [
    "## Saving the deep model"
   ]
  },
  {
   "cell_type": "code",
   "execution_count": 26,
   "metadata": {},
   "outputs": [],
   "source": [
    "# Save the model\n",
    "deep_model.save(\"artist_billboard_trained.h5\")"
   ]
  }
 ],
 "metadata": {
  "anaconda-cloud": {},
  "kernelspec": {
   "display_name": "Python 3",
   "language": "python",
   "name": "python3"
  },
  "language_info": {
   "codemirror_mode": {
    "name": "ipython",
    "version": 3
   },
   "file_extension": ".py",
   "mimetype": "text/x-python",
   "name": "python",
   "nbconvert_exporter": "python",
   "pygments_lexer": "ipython3",
   "version": "3.7.6"
  }
 },
 "nbformat": 4,
 "nbformat_minor": 2
}
