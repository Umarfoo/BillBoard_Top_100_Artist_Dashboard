{
 "cells": [
  {
   "cell_type": "markdown",
   "metadata": {},
   "source": [
    "![Billboard banner](https://www.clipartkey.com/mpngs/m/62-628657_billboard-logo-png-billboard-top-100.png)"
   ]
  },
  {
   "cell_type": "markdown",
   "metadata": {},
   "source": [
    "# Neural Network Machine Learning Model"
   ]
  },
  {
   "cell_type": "code",
   "execution_count": 1,
   "metadata": {},
   "outputs": [
    {
     "name": "stdout",
     "output_type": "stream",
     "text": [
      "All neccessary libraries imported\n"
     ]
    }
   ],
   "source": [
    "# Import the neccessary libraries\n",
    "import matplotlib.pyplot as plt\n",
    "import pandas as pd\n",
    "import scipy.stats as st\n",
    "import numpy as np\n",
    "print(\"All neccessary libraries imported\")"
   ]
  },
  {
   "cell_type": "code",
   "execution_count": 2,
   "metadata": {},
   "outputs": [],
   "source": [
    "# Set the seed value for the notebook so the results are reproducible\n",
    "from numpy.random import seed\n",
    "seed(42)"
   ]
  },
  {
   "cell_type": "code",
   "execution_count": 3,
   "metadata": {},
   "outputs": [],
   "source": [
    "# Raw data from Resources directory (change the link as needed)\n",
    "attribute_data = \"Resources/BillboardFromLast20/songAttributes_1999-2019.csv\""
   ]
  },
  {
   "cell_type": "code",
   "execution_count": 4,
   "metadata": {},
   "outputs": [
    {
     "name": "stdout",
     "output_type": "stream",
     "text": [
      "\u001b[1mThe shape of the attribute dataframe is (154931, 14):\u001b[0m\n"
     ]
    },
    {
     "data": {
      "text/html": [
       "<div>\n",
       "<style scoped>\n",
       "    .dataframe tbody tr th:only-of-type {\n",
       "        vertical-align: middle;\n",
       "    }\n",
       "\n",
       "    .dataframe tbody tr th {\n",
       "        vertical-align: top;\n",
       "    }\n",
       "\n",
       "    .dataframe thead th {\n",
       "        text-align: right;\n",
       "    }\n",
       "</style>\n",
       "<table border=\"1\" class=\"dataframe\">\n",
       "  <thead>\n",
       "    <tr style=\"text-align: right;\">\n",
       "      <th></th>\n",
       "      <th>Acousticness</th>\n",
       "      <th>Danceability</th>\n",
       "      <th>Duration</th>\n",
       "      <th>Energy</th>\n",
       "      <th>Explicit</th>\n",
       "      <th>Instrumentalness</th>\n",
       "      <th>Liveness</th>\n",
       "      <th>Loudness</th>\n",
       "      <th>Mode</th>\n",
       "      <th>Popularity</th>\n",
       "      <th>Speechiness</th>\n",
       "      <th>Tempo</th>\n",
       "      <th>TimeSignature</th>\n",
       "      <th>Valence</th>\n",
       "    </tr>\n",
       "  </thead>\n",
       "  <tbody>\n",
       "    <tr>\n",
       "      <th>0</th>\n",
       "      <td>0.000728</td>\n",
       "      <td>0.520</td>\n",
       "      <td>234947</td>\n",
       "      <td>0.904</td>\n",
       "      <td>0</td>\n",
       "      <td>0.010300</td>\n",
       "      <td>0.0634</td>\n",
       "      <td>-5.030</td>\n",
       "      <td>1</td>\n",
       "      <td>35</td>\n",
       "      <td>0.0309</td>\n",
       "      <td>106.022</td>\n",
       "      <td>4</td>\n",
       "      <td>0.365</td>\n",
       "    </tr>\n",
       "    <tr>\n",
       "      <th>1</th>\n",
       "      <td>0.018200</td>\n",
       "      <td>0.581</td>\n",
       "      <td>239573</td>\n",
       "      <td>0.709</td>\n",
       "      <td>0</td>\n",
       "      <td>0.000664</td>\n",
       "      <td>0.1740</td>\n",
       "      <td>-4.909</td>\n",
       "      <td>1</td>\n",
       "      <td>31</td>\n",
       "      <td>0.0282</td>\n",
       "      <td>120.027</td>\n",
       "      <td>4</td>\n",
       "      <td>0.408</td>\n",
       "    </tr>\n",
       "    <tr>\n",
       "      <th>2</th>\n",
       "      <td>0.000473</td>\n",
       "      <td>0.572</td>\n",
       "      <td>198400</td>\n",
       "      <td>0.918</td>\n",
       "      <td>0</td>\n",
       "      <td>0.000431</td>\n",
       "      <td>0.0977</td>\n",
       "      <td>-3.324</td>\n",
       "      <td>0</td>\n",
       "      <td>30</td>\n",
       "      <td>0.0559</td>\n",
       "      <td>144.061</td>\n",
       "      <td>4</td>\n",
       "      <td>0.370</td>\n",
       "    </tr>\n",
       "    <tr>\n",
       "      <th>3</th>\n",
       "      <td>0.000970</td>\n",
       "      <td>0.596</td>\n",
       "      <td>231453</td>\n",
       "      <td>0.661</td>\n",
       "      <td>0</td>\n",
       "      <td>0.000033</td>\n",
       "      <td>0.1130</td>\n",
       "      <td>-5.051</td>\n",
       "      <td>1</td>\n",
       "      <td>35</td>\n",
       "      <td>0.0254</td>\n",
       "      <td>111.975</td>\n",
       "      <td>4</td>\n",
       "      <td>0.183</td>\n",
       "    </tr>\n",
       "    <tr>\n",
       "      <th>4</th>\n",
       "      <td>0.000036</td>\n",
       "      <td>0.520</td>\n",
       "      <td>222520</td>\n",
       "      <td>0.808</td>\n",
       "      <td>0</td>\n",
       "      <td>0.000010</td>\n",
       "      <td>0.0800</td>\n",
       "      <td>-4.553</td>\n",
       "      <td>0</td>\n",
       "      <td>21</td>\n",
       "      <td>0.0318</td>\n",
       "      <td>92.721</td>\n",
       "      <td>4</td>\n",
       "      <td>0.666</td>\n",
       "    </tr>\n",
       "  </tbody>\n",
       "</table>\n",
       "</div>"
      ],
      "text/plain": [
       "   Acousticness  Danceability  Duration  Energy  Explicit  Instrumentalness  \\\n",
       "0      0.000728         0.520    234947   0.904         0          0.010300   \n",
       "1      0.018200         0.581    239573   0.709         0          0.000664   \n",
       "2      0.000473         0.572    198400   0.918         0          0.000431   \n",
       "3      0.000970         0.596    231453   0.661         0          0.000033   \n",
       "4      0.000036         0.520    222520   0.808         0          0.000010   \n",
       "\n",
       "   Liveness  Loudness  Mode  Popularity  Speechiness    Tempo  TimeSignature  \\\n",
       "0    0.0634    -5.030     1          35       0.0309  106.022              4   \n",
       "1    0.1740    -4.909     1          31       0.0282  120.027              4   \n",
       "2    0.0977    -3.324     0          30       0.0559  144.061              4   \n",
       "3    0.1130    -5.051     1          35       0.0254  111.975              4   \n",
       "4    0.0800    -4.553     0          21       0.0318   92.721              4   \n",
       "\n",
       "   Valence  \n",
       "0    0.365  \n",
       "1    0.408  \n",
       "2    0.370  \n",
       "3    0.183  \n",
       "4    0.666  "
      ]
     },
     "execution_count": 4,
     "metadata": {},
     "output_type": "execute_result"
    }
   ],
   "source": [
    "# Read the wildfire data into a dataframe\n",
    "df_attributes = pd.read_csv(attribute_data)\n",
    "# Drop the columns with string values\n",
    "df_attributes.drop(columns=['Unnamed: 0','Album','Artist','Name'],inplace=True)\n",
    "# Convert the boolean column to integer\n",
    "df_attributes[\"Explicit\"] = df_attributes[\"Explicit\"].astype(int)\n",
    "# Let's see the shape and the first 5 rows of the dataframe\n",
    "print('\\033[1m'+\"The shape of the {} dataframe is {}:\" .format(\"attribute\",df_attributes.shape)+'\\033[0m')\n",
    "df_attributes.head()"
   ]
  },
  {
   "cell_type": "code",
   "execution_count": 5,
   "metadata": {},
   "outputs": [
    {
     "name": "stdout",
     "output_type": "stream",
     "text": [
      "['Acousticness', 'Danceability', 'Duration', 'Energy', 'Explicit', 'Instrumentalness', 'Liveness', 'Loudness', 'Mode', 'Popularity', 'Speechiness', 'Tempo', 'TimeSignature', 'Valence']\n"
     ]
    }
   ],
   "source": [
    "# Let's see the column names in the dataframe\n",
    "print(df_attributes.columns.tolist())"
   ]
  },
  {
   "cell_type": "code",
   "execution_count": 6,
   "metadata": {},
   "outputs": [
    {
     "name": "stdout",
     "output_type": "stream",
     "text": [
      "<class 'pandas.core.frame.DataFrame'>\n",
      "RangeIndex: 154931 entries, 0 to 154930\n",
      "Data columns (total 14 columns):\n",
      " #   Column            Non-Null Count   Dtype  \n",
      "---  ------            --------------   -----  \n",
      " 0   Acousticness      154931 non-null  float64\n",
      " 1   Danceability      154931 non-null  float64\n",
      " 2   Duration          154931 non-null  int64  \n",
      " 3   Energy            154931 non-null  float64\n",
      " 4   Explicit          154931 non-null  int32  \n",
      " 5   Instrumentalness  154931 non-null  float64\n",
      " 6   Liveness          154931 non-null  float64\n",
      " 7   Loudness          154931 non-null  float64\n",
      " 8   Mode              154931 non-null  int64  \n",
      " 9   Popularity        154931 non-null  int64  \n",
      " 10  Speechiness       154931 non-null  float64\n",
      " 11  Tempo             154931 non-null  float64\n",
      " 12  TimeSignature     154931 non-null  int64  \n",
      " 13  Valence           154931 non-null  float64\n",
      "dtypes: float64(9), int32(1), int64(4)\n",
      "memory usage: 16.0 MB\n"
     ]
    }
   ],
   "source": [
    "# Basic information of the df_fire dataframe by the info() method\n",
    "df_attributes.info()"
   ]
  },
  {
   "cell_type": "markdown",
   "metadata": {},
   "source": [
    "## Create a new column for popularity rank"
   ]
  },
  {
   "cell_type": "code",
   "execution_count": 7,
   "metadata": {
    "scrolled": true
   },
   "outputs": [
    {
     "data": {
      "text/html": [
       "<div>\n",
       "<style scoped>\n",
       "    .dataframe tbody tr th:only-of-type {\n",
       "        vertical-align: middle;\n",
       "    }\n",
       "\n",
       "    .dataframe tbody tr th {\n",
       "        vertical-align: top;\n",
       "    }\n",
       "\n",
       "    .dataframe thead th {\n",
       "        text-align: right;\n",
       "    }\n",
       "</style>\n",
       "<table border=\"1\" class=\"dataframe\">\n",
       "  <thead>\n",
       "    <tr style=\"text-align: right;\">\n",
       "      <th></th>\n",
       "      <th>Acousticness</th>\n",
       "      <th>Danceability</th>\n",
       "      <th>Duration</th>\n",
       "      <th>Energy</th>\n",
       "      <th>Explicit</th>\n",
       "      <th>Instrumentalness</th>\n",
       "      <th>Liveness</th>\n",
       "      <th>Loudness</th>\n",
       "      <th>Mode</th>\n",
       "      <th>Popularity</th>\n",
       "      <th>Speechiness</th>\n",
       "      <th>Tempo</th>\n",
       "      <th>TimeSignature</th>\n",
       "      <th>Valence</th>\n",
       "      <th>Rank</th>\n",
       "    </tr>\n",
       "  </thead>\n",
       "  <tbody>\n",
       "    <tr>\n",
       "      <th>0</th>\n",
       "      <td>0.000728</td>\n",
       "      <td>0.520</td>\n",
       "      <td>234947</td>\n",
       "      <td>0.904</td>\n",
       "      <td>0</td>\n",
       "      <td>0.010300</td>\n",
       "      <td>0.0634</td>\n",
       "      <td>-5.030</td>\n",
       "      <td>1</td>\n",
       "      <td>35</td>\n",
       "      <td>0.0309</td>\n",
       "      <td>106.022</td>\n",
       "      <td>4</td>\n",
       "      <td>0.365</td>\n",
       "      <td>3</td>\n",
       "    </tr>\n",
       "    <tr>\n",
       "      <th>1</th>\n",
       "      <td>0.018200</td>\n",
       "      <td>0.581</td>\n",
       "      <td>239573</td>\n",
       "      <td>0.709</td>\n",
       "      <td>0</td>\n",
       "      <td>0.000664</td>\n",
       "      <td>0.1740</td>\n",
       "      <td>-4.909</td>\n",
       "      <td>1</td>\n",
       "      <td>31</td>\n",
       "      <td>0.0282</td>\n",
       "      <td>120.027</td>\n",
       "      <td>4</td>\n",
       "      <td>0.408</td>\n",
       "      <td>3</td>\n",
       "    </tr>\n",
       "    <tr>\n",
       "      <th>2</th>\n",
       "      <td>0.000473</td>\n",
       "      <td>0.572</td>\n",
       "      <td>198400</td>\n",
       "      <td>0.918</td>\n",
       "      <td>0</td>\n",
       "      <td>0.000431</td>\n",
       "      <td>0.0977</td>\n",
       "      <td>-3.324</td>\n",
       "      <td>0</td>\n",
       "      <td>30</td>\n",
       "      <td>0.0559</td>\n",
       "      <td>144.061</td>\n",
       "      <td>4</td>\n",
       "      <td>0.370</td>\n",
       "      <td>3</td>\n",
       "    </tr>\n",
       "    <tr>\n",
       "      <th>3</th>\n",
       "      <td>0.000970</td>\n",
       "      <td>0.596</td>\n",
       "      <td>231453</td>\n",
       "      <td>0.661</td>\n",
       "      <td>0</td>\n",
       "      <td>0.000033</td>\n",
       "      <td>0.1130</td>\n",
       "      <td>-5.051</td>\n",
       "      <td>1</td>\n",
       "      <td>35</td>\n",
       "      <td>0.0254</td>\n",
       "      <td>111.975</td>\n",
       "      <td>4</td>\n",
       "      <td>0.183</td>\n",
       "      <td>3</td>\n",
       "    </tr>\n",
       "    <tr>\n",
       "      <th>4</th>\n",
       "      <td>0.000036</td>\n",
       "      <td>0.520</td>\n",
       "      <td>222520</td>\n",
       "      <td>0.808</td>\n",
       "      <td>0</td>\n",
       "      <td>0.000010</td>\n",
       "      <td>0.0800</td>\n",
       "      <td>-4.553</td>\n",
       "      <td>0</td>\n",
       "      <td>21</td>\n",
       "      <td>0.0318</td>\n",
       "      <td>92.721</td>\n",
       "      <td>4</td>\n",
       "      <td>0.666</td>\n",
       "      <td>2</td>\n",
       "    </tr>\n",
       "    <tr>\n",
       "      <th>5</th>\n",
       "      <td>0.010600</td>\n",
       "      <td>0.353</td>\n",
       "      <td>263880</td>\n",
       "      <td>0.754</td>\n",
       "      <td>0</td>\n",
       "      <td>0.000073</td>\n",
       "      <td>0.1200</td>\n",
       "      <td>-4.570</td>\n",
       "      <td>1</td>\n",
       "      <td>22</td>\n",
       "      <td>0.0452</td>\n",
       "      <td>138.003</td>\n",
       "      <td>4</td>\n",
       "      <td>0.546</td>\n",
       "      <td>2</td>\n",
       "    </tr>\n",
       "    <tr>\n",
       "      <th>6</th>\n",
       "      <td>0.043600</td>\n",
       "      <td>0.629</td>\n",
       "      <td>214973</td>\n",
       "      <td>0.787</td>\n",
       "      <td>0</td>\n",
       "      <td>0.000047</td>\n",
       "      <td>0.1000</td>\n",
       "      <td>-5.657</td>\n",
       "      <td>1</td>\n",
       "      <td>37</td>\n",
       "      <td>0.0277</td>\n",
       "      <td>100.440</td>\n",
       "      <td>4</td>\n",
       "      <td>0.476</td>\n",
       "      <td>3</td>\n",
       "    </tr>\n",
       "    <tr>\n",
       "      <th>7</th>\n",
       "      <td>0.000402</td>\n",
       "      <td>0.646</td>\n",
       "      <td>206067</td>\n",
       "      <td>0.853</td>\n",
       "      <td>0</td>\n",
       "      <td>0.000090</td>\n",
       "      <td>0.1170</td>\n",
       "      <td>-4.685</td>\n",
       "      <td>1</td>\n",
       "      <td>31</td>\n",
       "      <td>0.0278</td>\n",
       "      <td>127.963</td>\n",
       "      <td>4</td>\n",
       "      <td>0.699</td>\n",
       "      <td>3</td>\n",
       "    </tr>\n",
       "    <tr>\n",
       "      <th>8</th>\n",
       "      <td>0.000521</td>\n",
       "      <td>0.645</td>\n",
       "      <td>216400</td>\n",
       "      <td>0.840</td>\n",
       "      <td>0</td>\n",
       "      <td>0.000011</td>\n",
       "      <td>0.0370</td>\n",
       "      <td>-4.995</td>\n",
       "      <td>1</td>\n",
       "      <td>20</td>\n",
       "      <td>0.0697</td>\n",
       "      <td>140.025</td>\n",
       "      <td>4</td>\n",
       "      <td>0.795</td>\n",
       "      <td>2</td>\n",
       "    </tr>\n",
       "    <tr>\n",
       "      <th>9</th>\n",
       "      <td>0.000380</td>\n",
       "      <td>0.601</td>\n",
       "      <td>212013</td>\n",
       "      <td>0.861</td>\n",
       "      <td>0</td>\n",
       "      <td>0.000002</td>\n",
       "      <td>0.1310</td>\n",
       "      <td>-4.690</td>\n",
       "      <td>1</td>\n",
       "      <td>22</td>\n",
       "      <td>0.0319</td>\n",
       "      <td>120.017</td>\n",
       "      <td>4</td>\n",
       "      <td>0.615</td>\n",
       "      <td>2</td>\n",
       "    </tr>\n",
       "  </tbody>\n",
       "</table>\n",
       "</div>"
      ],
      "text/plain": [
       "   Acousticness  Danceability  Duration  Energy  Explicit  Instrumentalness  \\\n",
       "0      0.000728         0.520    234947   0.904         0          0.010300   \n",
       "1      0.018200         0.581    239573   0.709         0          0.000664   \n",
       "2      0.000473         0.572    198400   0.918         0          0.000431   \n",
       "3      0.000970         0.596    231453   0.661         0          0.000033   \n",
       "4      0.000036         0.520    222520   0.808         0          0.000010   \n",
       "5      0.010600         0.353    263880   0.754         0          0.000073   \n",
       "6      0.043600         0.629    214973   0.787         0          0.000047   \n",
       "7      0.000402         0.646    206067   0.853         0          0.000090   \n",
       "8      0.000521         0.645    216400   0.840         0          0.000011   \n",
       "9      0.000380         0.601    212013   0.861         0          0.000002   \n",
       "\n",
       "   Liveness  Loudness  Mode  Popularity  Speechiness    Tempo  TimeSignature  \\\n",
       "0    0.0634    -5.030     1          35       0.0309  106.022              4   \n",
       "1    0.1740    -4.909     1          31       0.0282  120.027              4   \n",
       "2    0.0977    -3.324     0          30       0.0559  144.061              4   \n",
       "3    0.1130    -5.051     1          35       0.0254  111.975              4   \n",
       "4    0.0800    -4.553     0          21       0.0318   92.721              4   \n",
       "5    0.1200    -4.570     1          22       0.0452  138.003              4   \n",
       "6    0.1000    -5.657     1          37       0.0277  100.440              4   \n",
       "7    0.1170    -4.685     1          31       0.0278  127.963              4   \n",
       "8    0.0370    -4.995     1          20       0.0697  140.025              4   \n",
       "9    0.1310    -4.690     1          22       0.0319  120.017              4   \n",
       "\n",
       "   Valence  Rank  \n",
       "0    0.365     3  \n",
       "1    0.408     3  \n",
       "2    0.370     3  \n",
       "3    0.183     3  \n",
       "4    0.666     2  \n",
       "5    0.546     2  \n",
       "6    0.476     3  \n",
       "7    0.699     3  \n",
       "8    0.795     2  \n",
       "9    0.615     2  "
      ]
     },
     "execution_count": 7,
     "metadata": {},
     "output_type": "execute_result"
    }
   ],
   "source": [
    "# Create a new column that bins the popularity from 0-9\n",
    "df_attributes[\"Rank\"] = (df_attributes[\"Popularity\"]/10).astype(int)\n",
    "# Let's see the new column\n",
    "df_attributes.head(10)"
   ]
  },
  {
   "cell_type": "markdown",
   "metadata": {},
   "source": [
    "## Creating input and output datasets"
   ]
  },
  {
   "cell_type": "code",
   "execution_count": 8,
   "metadata": {},
   "outputs": [
    {
     "name": "stdout",
     "output_type": "stream",
     "text": [
      "(154931, 13)\n",
      "(154931, 1)\n"
     ]
    }
   ],
   "source": [
    "import numpy as np\n",
    "# Create a copy of df_attributes\n",
    "df_copy = df_attributes.copy()\n",
    "# Create X and Y numpy arrays\n",
    "y = df_copy[['Rank']].to_numpy() # Keep only the rank column\n",
    "df_copy.drop(columns=['Popularity','Rank'],inplace=True) # Keep only the attributes\n",
    "X = df_copy.to_numpy() # Convert the dataframe to numpy array\n",
    "print(X.shape)\n",
    "print(y.shape)"
   ]
  },
  {
   "cell_type": "markdown",
   "metadata": {},
   "source": [
    "## Creating train and test splits"
   ]
  },
  {
   "cell_type": "code",
   "execution_count": 9,
   "metadata": {},
   "outputs": [],
   "source": [
    "# Use train_test_split to create training and testing data\n",
    "from sklearn.model_selection import train_test_split\n",
    "X_train, X_test, y_train, y_test = train_test_split(X, y, random_state=1)"
   ]
  },
  {
   "cell_type": "markdown",
   "metadata": {},
   "source": [
    "## Data Preprocessing"
   ]
  },
  {
   "cell_type": "code",
   "execution_count": 10,
   "metadata": {},
   "outputs": [],
   "source": [
    "# Importing StandardScaler from sklearn library\n",
    "from sklearn.preprocessing import StandardScaler\n",
    "X_scaler = StandardScaler().fit(X_train)"
   ]
  },
  {
   "cell_type": "code",
   "execution_count": 11,
   "metadata": {},
   "outputs": [],
   "source": [
    "# Scaling both test and train data for X dataset\n",
    "X_train_scaled = X_scaler.transform(X_train)\n",
    "X_test_scaled = X_scaler.transform(X_test)"
   ]
  },
  {
   "cell_type": "code",
   "execution_count": 12,
   "metadata": {},
   "outputs": [],
   "source": [
    "# Install tensorflow module (if not available) by uncommenting below\n",
    "#!pip install keras\n",
    "#!pip install --upgrade tensorflow"
   ]
  },
  {
   "cell_type": "markdown",
   "metadata": {},
   "source": [
    "## One hot encoding of labels"
   ]
  },
  {
   "cell_type": "code",
   "execution_count": 13,
   "metadata": {},
   "outputs": [],
   "source": [
    "from tensorflow.keras.utils import to_categorical\n",
    "# Converting the labels (y_train and y_test) to categorical values\n",
    "y_train_categorical = to_categorical(y_train)\n",
    "y_test_categorical = to_categorical(y_test)"
   ]
  },
  {
   "cell_type": "markdown",
   "metadata": {},
   "source": [
    "## Defining the model architecture"
   ]
  },
  {
   "cell_type": "code",
   "execution_count": 14,
   "metadata": {},
   "outputs": [],
   "source": [
    "from tensorflow.keras.models import Sequential\n",
    "# Creating a sequential model\n",
    "model = Sequential()"
   ]
  },
  {
   "cell_type": "markdown",
   "metadata": {},
   "source": [
    "## Defining the input of the model"
   ]
  },
  {
   "cell_type": "code",
   "execution_count": 15,
   "metadata": {},
   "outputs": [],
   "source": [
    "from tensorflow.keras.layers import Dense\n",
    "number_inputs = 13\n",
    "number_hidden_nodes = 39\n",
    "model.add(Dense(units=number_hidden_nodes,\n",
    "                activation='relu', input_dim=number_inputs))"
   ]
  },
  {
   "cell_type": "markdown",
   "metadata": {},
   "source": [
    "## Defining the output of the model"
   ]
  },
  {
   "cell_type": "code",
   "execution_count": 16,
   "metadata": {},
   "outputs": [],
   "source": [
    "# Defining the output layer\n",
    "number_classes = 10 # Labels we are trying to predict (10 in this case)\n",
    "model.add(Dense(units=number_classes, activation='softmax'))"
   ]
  },
  {
   "cell_type": "markdown",
   "metadata": {},
   "source": [
    "## Summary of the model"
   ]
  },
  {
   "cell_type": "code",
   "execution_count": 17,
   "metadata": {},
   "outputs": [
    {
     "name": "stdout",
     "output_type": "stream",
     "text": [
      "Model: \"sequential\"\n",
      "_________________________________________________________________\n",
      "Layer (type)                 Output Shape              Param #   \n",
      "=================================================================\n",
      "dense (Dense)                (None, 39)                546       \n",
      "_________________________________________________________________\n",
      "dense_1 (Dense)              (None, 10)                400       \n",
      "=================================================================\n",
      "Total params: 946\n",
      "Trainable params: 946\n",
      "Non-trainable params: 0\n",
      "_________________________________________________________________\n"
     ]
    }
   ],
   "source": [
    "model.summary()"
   ]
  },
  {
   "cell_type": "markdown",
   "metadata": {},
   "source": [
    "## Compile the model"
   ]
  },
  {
   "cell_type": "code",
   "execution_count": 18,
   "metadata": {},
   "outputs": [],
   "source": [
    "# Use categorical crossentropy for categorical data and mean squared error for regression\n",
    "model.compile(optimizer='adam',\n",
    "              loss='categorical_crossentropy',\n",
    "              metrics=['accuracy'])"
   ]
  },
  {
   "cell_type": "markdown",
   "metadata": {},
   "source": [
    "## Training the model"
   ]
  },
  {
   "cell_type": "code",
   "execution_count": 19,
   "metadata": {},
   "outputs": [
    {
     "name": "stdout",
     "output_type": "stream",
     "text": [
      "Epoch 1/100\n",
      "3632/3632 - 2s - loss: 1.6815 - accuracy: 0.3222\n",
      "Epoch 2/100\n",
      "3632/3632 - 2s - loss: 1.6572 - accuracy: 0.3286\n",
      "Epoch 3/100\n",
      "3632/3632 - 2s - loss: 1.6542 - accuracy: 0.3295\n",
      "Epoch 4/100\n",
      "3632/3632 - 2s - loss: 1.6523 - accuracy: 0.3304\n",
      "Epoch 5/100\n",
      "3632/3632 - 2s - loss: 1.6510 - accuracy: 0.3304\n",
      "Epoch 6/100\n",
      "3632/3632 - 2s - loss: 1.6499 - accuracy: 0.3304\n",
      "Epoch 7/100\n",
      "3632/3632 - 2s - loss: 1.6488 - accuracy: 0.3316\n",
      "Epoch 8/100\n",
      "3632/3632 - 2s - loss: 1.6484 - accuracy: 0.3311\n",
      "Epoch 9/100\n",
      "3632/3632 - 2s - loss: 1.6475 - accuracy: 0.3310\n",
      "Epoch 10/100\n",
      "3632/3632 - 2s - loss: 1.6473 - accuracy: 0.3314\n",
      "Epoch 11/100\n",
      "3632/3632 - 2s - loss: 1.6468 - accuracy: 0.3314\n",
      "Epoch 12/100\n",
      "3632/3632 - 2s - loss: 1.6466 - accuracy: 0.3313\n",
      "Epoch 13/100\n",
      "3632/3632 - 2s - loss: 1.6463 - accuracy: 0.3315\n",
      "Epoch 14/100\n",
      "3632/3632 - 2s - loss: 1.6458 - accuracy: 0.3323\n",
      "Epoch 15/100\n",
      "3632/3632 - 2s - loss: 1.6458 - accuracy: 0.3324\n",
      "Epoch 16/100\n",
      "3632/3632 - 2s - loss: 1.6455 - accuracy: 0.3320\n",
      "Epoch 17/100\n",
      "3632/3632 - 2s - loss: 1.6453 - accuracy: 0.3327\n",
      "Epoch 18/100\n",
      "3632/3632 - 2s - loss: 1.6453 - accuracy: 0.3319\n",
      "Epoch 19/100\n",
      "3632/3632 - 2s - loss: 1.6451 - accuracy: 0.3323\n",
      "Epoch 20/100\n",
      "3632/3632 - 2s - loss: 1.6449 - accuracy: 0.3320\n",
      "Epoch 21/100\n",
      "3632/3632 - 2s - loss: 1.6446 - accuracy: 0.3327\n",
      "Epoch 22/100\n",
      "3632/3632 - 2s - loss: 1.6447 - accuracy: 0.3321\n",
      "Epoch 23/100\n",
      "3632/3632 - 2s - loss: 1.6446 - accuracy: 0.3321\n",
      "Epoch 24/100\n",
      "3632/3632 - 2s - loss: 1.6443 - accuracy: 0.3319\n",
      "Epoch 25/100\n",
      "3632/3632 - 2s - loss: 1.6442 - accuracy: 0.3318\n",
      "Epoch 26/100\n",
      "3632/3632 - 2s - loss: 1.6439 - accuracy: 0.3325\n",
      "Epoch 27/100\n",
      "3632/3632 - 2s - loss: 1.6441 - accuracy: 0.3328\n",
      "Epoch 28/100\n",
      "3632/3632 - 2s - loss: 1.6437 - accuracy: 0.3332\n",
      "Epoch 29/100\n",
      "3632/3632 - 2s - loss: 1.6437 - accuracy: 0.3321\n",
      "Epoch 30/100\n",
      "3632/3632 - 2s - loss: 1.6435 - accuracy: 0.3331\n",
      "Epoch 31/100\n",
      "3632/3632 - 2s - loss: 1.6436 - accuracy: 0.3324\n",
      "Epoch 32/100\n",
      "3632/3632 - 2s - loss: 1.6434 - accuracy: 0.3323\n",
      "Epoch 33/100\n",
      "3632/3632 - 2s - loss: 1.6432 - accuracy: 0.3326\n",
      "Epoch 34/100\n",
      "3632/3632 - 2s - loss: 1.6433 - accuracy: 0.3330\n",
      "Epoch 35/100\n",
      "3632/3632 - 2s - loss: 1.6430 - accuracy: 0.3323\n",
      "Epoch 36/100\n",
      "3632/3632 - 2s - loss: 1.6428 - accuracy: 0.3336\n",
      "Epoch 37/100\n",
      "3632/3632 - 2s - loss: 1.6429 - accuracy: 0.3338\n",
      "Epoch 38/100\n",
      "3632/3632 - 2s - loss: 1.6426 - accuracy: 0.3325\n",
      "Epoch 39/100\n",
      "3632/3632 - 2s - loss: 1.6426 - accuracy: 0.3333\n",
      "Epoch 40/100\n",
      "3632/3632 - 2s - loss: 1.6426 - accuracy: 0.3329\n",
      "Epoch 41/100\n",
      "3632/3632 - 2s - loss: 1.6424 - accuracy: 0.3322\n",
      "Epoch 42/100\n",
      "3632/3632 - 2s - loss: 1.6422 - accuracy: 0.3331\n",
      "Epoch 43/100\n",
      "3632/3632 - 2s - loss: 1.6421 - accuracy: 0.3331\n",
      "Epoch 44/100\n",
      "3632/3632 - 2s - loss: 1.6421 - accuracy: 0.3330\n",
      "Epoch 45/100\n",
      "3632/3632 - 2s - loss: 1.6419 - accuracy: 0.3331\n",
      "Epoch 46/100\n",
      "3632/3632 - 2s - loss: 1.6418 - accuracy: 0.3321\n",
      "Epoch 47/100\n",
      "3632/3632 - 2s - loss: 1.6416 - accuracy: 0.3326\n",
      "Epoch 48/100\n",
      "3632/3632 - 2s - loss: 1.6416 - accuracy: 0.3341\n",
      "Epoch 49/100\n",
      "3632/3632 - 2s - loss: 1.6413 - accuracy: 0.3329\n",
      "Epoch 50/100\n",
      "3632/3632 - 2s - loss: 1.6411 - accuracy: 0.3327\n",
      "Epoch 51/100\n",
      "3632/3632 - 2s - loss: 1.6411 - accuracy: 0.3329\n",
      "Epoch 52/100\n",
      "3632/3632 - 2s - loss: 1.6410 - accuracy: 0.3325\n",
      "Epoch 53/100\n",
      "3632/3632 - 2s - loss: 1.6408 - accuracy: 0.3328\n",
      "Epoch 54/100\n",
      "3632/3632 - 2s - loss: 1.6408 - accuracy: 0.3329\n",
      "Epoch 55/100\n",
      "3632/3632 - 2s - loss: 1.6406 - accuracy: 0.3338\n",
      "Epoch 56/100\n",
      "3632/3632 - 2s - loss: 1.6404 - accuracy: 0.3339\n",
      "Epoch 57/100\n",
      "3632/3632 - 2s - loss: 1.6405 - accuracy: 0.3325\n",
      "Epoch 58/100\n",
      "3632/3632 - 2s - loss: 1.6402 - accuracy: 0.3334\n",
      "Epoch 59/100\n",
      "3632/3632 - 2s - loss: 1.6400 - accuracy: 0.3334\n",
      "Epoch 60/100\n",
      "3632/3632 - 2s - loss: 1.6402 - accuracy: 0.3336\n",
      "Epoch 61/100\n",
      "3632/3632 - 2s - loss: 1.6400 - accuracy: 0.3329\n",
      "Epoch 62/100\n",
      "3632/3632 - 2s - loss: 1.6395 - accuracy: 0.3327\n",
      "Epoch 63/100\n",
      "3632/3632 - 2s - loss: 1.6399 - accuracy: 0.3327\n",
      "Epoch 64/100\n",
      "3632/3632 - 2s - loss: 1.6395 - accuracy: 0.3335\n",
      "Epoch 65/100\n",
      "3632/3632 - 2s - loss: 1.6396 - accuracy: 0.3335\n",
      "Epoch 66/100\n",
      "3632/3632 - 2s - loss: 1.6395 - accuracy: 0.3329\n",
      "Epoch 67/100\n",
      "3632/3632 - 2s - loss: 1.6395 - accuracy: 0.3336\n",
      "Epoch 68/100\n",
      "3632/3632 - 2s - loss: 1.6392 - accuracy: 0.3329\n",
      "Epoch 69/100\n",
      "3632/3632 - 2s - loss: 1.6391 - accuracy: 0.3333\n",
      "Epoch 70/100\n",
      "3632/3632 - 2s - loss: 1.6392 - accuracy: 0.3334\n",
      "Epoch 71/100\n",
      "3632/3632 - 2s - loss: 1.6388 - accuracy: 0.3331\n",
      "Epoch 72/100\n",
      "3632/3632 - 2s - loss: 1.6390 - accuracy: 0.3338\n",
      "Epoch 73/100\n",
      "3632/3632 - 2s - loss: 1.6387 - accuracy: 0.3328\n",
      "Epoch 74/100\n",
      "3632/3632 - 2s - loss: 1.6387 - accuracy: 0.3333\n",
      "Epoch 75/100\n",
      "3632/3632 - 2s - loss: 1.6385 - accuracy: 0.3342\n",
      "Epoch 76/100\n",
      "3632/3632 - 2s - loss: 1.6385 - accuracy: 0.3334\n",
      "Epoch 77/100\n",
      "3632/3632 - 2s - loss: 1.6385 - accuracy: 0.3332\n",
      "Epoch 78/100\n",
      "3632/3632 - 2s - loss: 1.6385 - accuracy: 0.3328\n",
      "Epoch 79/100\n",
      "3632/3632 - 2s - loss: 1.6382 - accuracy: 0.3334\n",
      "Epoch 80/100\n",
      "3632/3632 - 2s - loss: 1.6385 - accuracy: 0.3339\n",
      "Epoch 81/100\n",
      "3632/3632 - 2s - loss: 1.6383 - accuracy: 0.3337\n",
      "Epoch 82/100\n",
      "3632/3632 - 2s - loss: 1.6381 - accuracy: 0.3339\n",
      "Epoch 83/100\n",
      "3632/3632 - 2s - loss: 1.6380 - accuracy: 0.3338\n",
      "Epoch 84/100\n",
      "3632/3632 - 2s - loss: 1.6379 - accuracy: 0.3334\n",
      "Epoch 85/100\n",
      "3632/3632 - 2s - loss: 1.6381 - accuracy: 0.3326\n",
      "Epoch 86/100\n",
      "3632/3632 - 2s - loss: 1.6380 - accuracy: 0.3328\n",
      "Epoch 87/100\n",
      "3632/3632 - 2s - loss: 1.6381 - accuracy: 0.3346\n",
      "Epoch 88/100\n",
      "3632/3632 - 2s - loss: 1.6377 - accuracy: 0.3330\n",
      "Epoch 89/100\n",
      "3632/3632 - 2s - loss: 1.6377 - accuracy: 0.3333\n",
      "Epoch 90/100\n",
      "3632/3632 - 2s - loss: 1.6379 - accuracy: 0.3333\n",
      "Epoch 91/100\n",
      "3632/3632 - 2s - loss: 1.6378 - accuracy: 0.3338\n",
      "Epoch 92/100\n",
      "3632/3632 - 2s - loss: 1.6377 - accuracy: 0.3338\n",
      "Epoch 93/100\n",
      "3632/3632 - 2s - loss: 1.6379 - accuracy: 0.3331\n",
      "Epoch 94/100\n",
      "3632/3632 - 2s - loss: 1.6377 - accuracy: 0.3343\n",
      "Epoch 95/100\n",
      "3632/3632 - 2s - loss: 1.6376 - accuracy: 0.3333\n",
      "Epoch 96/100\n",
      "3632/3632 - 2s - loss: 1.6377 - accuracy: 0.3327\n",
      "Epoch 97/100\n",
      "3632/3632 - 2s - loss: 1.6376 - accuracy: 0.3342\n",
      "Epoch 98/100\n",
      "3632/3632 - 2s - loss: 1.6375 - accuracy: 0.3339\n",
      "Epoch 99/100\n",
      "3632/3632 - 2s - loss: 1.6377 - accuracy: 0.3332\n",
      "Epoch 100/100\n",
      "3632/3632 - 2s - loss: 1.6374 - accuracy: 0.3331\n"
     ]
    },
    {
     "data": {
      "text/plain": [
       "<tensorflow.python.keras.callbacks.History at 0x1ba697b3248>"
      ]
     },
     "execution_count": 19,
     "metadata": {},
     "output_type": "execute_result"
    }
   ],
   "source": [
    "# Fit (train) the model\n",
    "model.fit(\n",
    "    X_train_scaled,\n",
    "    y_train_categorical,\n",
    "    epochs=100, # Thousand iterations or loops\n",
    "    shuffle=True,\n",
    "    verbose=2\n",
    ")"
   ]
  },
  {
   "cell_type": "markdown",
   "metadata": {},
   "source": [
    "## Evaluating the model using the test data"
   ]
  },
  {
   "cell_type": "code",
   "execution_count": 28,
   "metadata": {},
   "outputs": [
    {
     "name": "stdout",
     "output_type": "stream",
     "text": [
      "1211/1211 - 0s - loss: 1.6466 - accuracy: 0.3311\n",
      "Loss: 1.6466114521026611, Accuracy: 0.33113881945610046\n"
     ]
    }
   ],
   "source": [
    "# Evaluate the model using the testing data\n",
    "model_loss, model_accuracy = model.evaluate(\n",
    "    X_test_scaled, y_test_categorical, verbose=2)\n",
    "print(f\"Loss: {model_loss}, Accuracy: {model_accuracy}\")"
   ]
  },
  {
   "cell_type": "markdown",
   "metadata": {},
   "source": [
    "# Deep Learning"
   ]
  },
  {
   "cell_type": "code",
   "execution_count": 21,
   "metadata": {},
   "outputs": [],
   "source": [
    "# In this model we use an additional hidden layer of 39 nodes\n",
    "deep_model = Sequential()\n",
    "deep_model.add(Dense(units=39, activation='relu', input_dim=13))\n",
    "deep_model.add(Dense(units=39, activation='relu'))\n",
    "deep_model.add(Dense(units=10, activation='softmax'))"
   ]
  },
  {
   "cell_type": "markdown",
   "metadata": {},
   "source": [
    "## Summary of Deep model"
   ]
  },
  {
   "cell_type": "code",
   "execution_count": 23,
   "metadata": {},
   "outputs": [
    {
     "name": "stdout",
     "output_type": "stream",
     "text": [
      "Model: \"sequential_1\"\n",
      "_________________________________________________________________\n",
      "Layer (type)                 Output Shape              Param #   \n",
      "=================================================================\n",
      "dense_2 (Dense)              (None, 39)                546       \n",
      "_________________________________________________________________\n",
      "dense_3 (Dense)              (None, 39)                1560      \n",
      "_________________________________________________________________\n",
      "dense_4 (Dense)              (None, 10)                400       \n",
      "=================================================================\n",
      "Total params: 2,506\n",
      "Trainable params: 2,506\n",
      "Non-trainable params: 0\n",
      "_________________________________________________________________\n"
     ]
    }
   ],
   "source": [
    "deep_model.summary()"
   ]
  },
  {
   "cell_type": "markdown",
   "metadata": {},
   "source": [
    "## Compile the deep model"
   ]
  },
  {
   "cell_type": "code",
   "execution_count": 24,
   "metadata": {},
   "outputs": [],
   "source": [
    "# Compiling the deep model\n",
    "deep_model.compile(optimizer='adam',\n",
    "                   loss='categorical_crossentropy',\n",
    "                   metrics=['accuracy'])"
   ]
  },
  {
   "cell_type": "markdown",
   "metadata": {},
   "source": [
    "## Training the deep model"
   ]
  },
  {
   "cell_type": "code",
   "execution_count": 25,
   "metadata": {},
   "outputs": [
    {
     "name": "stdout",
     "output_type": "stream",
     "text": [
      "Epoch 1/100\n",
      "3632/3632 - 2s - loss: 1.6774 - accuracy: 0.3252\n",
      "Epoch 2/100\n",
      "3632/3632 - 2s - loss: 1.6537 - accuracy: 0.3306\n",
      "Epoch 3/100\n",
      "3632/3632 - 2s - loss: 1.6497 - accuracy: 0.3319\n",
      "Epoch 4/100\n",
      "3632/3632 - 2s - loss: 1.6467 - accuracy: 0.3321\n",
      "Epoch 5/100\n",
      "3632/3632 - 2s - loss: 1.6450 - accuracy: 0.3325\n",
      "Epoch 6/100\n",
      "3632/3632 - 2s - loss: 1.6430 - accuracy: 0.3339\n",
      "Epoch 7/100\n",
      "3632/3632 - 2s - loss: 1.6414 - accuracy: 0.3343\n",
      "Epoch 8/100\n",
      "3632/3632 - 2s - loss: 1.6400 - accuracy: 0.3336\n",
      "Epoch 9/100\n",
      "3632/3632 - 2s - loss: 1.6387 - accuracy: 0.3352\n",
      "Epoch 10/100\n",
      "3632/3632 - 2s - loss: 1.6377 - accuracy: 0.3353\n",
      "Epoch 11/100\n",
      "3632/3632 - 2s - loss: 1.6370 - accuracy: 0.3358\n",
      "Epoch 12/100\n",
      "3632/3632 - 2s - loss: 1.6362 - accuracy: 0.3363\n",
      "Epoch 13/100\n",
      "3632/3632 - 2s - loss: 1.6351 - accuracy: 0.3360\n",
      "Epoch 14/100\n",
      "3632/3632 - 2s - loss: 1.6346 - accuracy: 0.3357\n",
      "Epoch 15/100\n",
      "3632/3632 - 2s - loss: 1.6339 - accuracy: 0.3370\n",
      "Epoch 16/100\n",
      "3632/3632 - 2s - loss: 1.6329 - accuracy: 0.3364\n",
      "Epoch 17/100\n",
      "3632/3632 - 2s - loss: 1.6325 - accuracy: 0.3369\n",
      "Epoch 18/100\n",
      "3632/3632 - 2s - loss: 1.6320 - accuracy: 0.3383\n",
      "Epoch 19/100\n",
      "3632/3632 - 2s - loss: 1.6318 - accuracy: 0.3375\n",
      "Epoch 20/100\n",
      "3632/3632 - 2s - loss: 1.6313 - accuracy: 0.3370\n",
      "Epoch 21/100\n",
      "3632/3632 - 2s - loss: 1.6308 - accuracy: 0.3374\n",
      "Epoch 22/100\n",
      "3632/3632 - 2s - loss: 1.6303 - accuracy: 0.3364\n",
      "Epoch 23/100\n",
      "3632/3632 - 2s - loss: 1.6295 - accuracy: 0.3374\n",
      "Epoch 24/100\n",
      "3632/3632 - 2s - loss: 1.6293 - accuracy: 0.3374\n",
      "Epoch 25/100\n",
      "3632/3632 - 2s - loss: 1.6290 - accuracy: 0.3375\n",
      "Epoch 26/100\n",
      "3632/3632 - 2s - loss: 1.6285 - accuracy: 0.3373\n",
      "Epoch 27/100\n",
      "3632/3632 - 2s - loss: 1.6282 - accuracy: 0.3376\n",
      "Epoch 28/100\n",
      "3632/3632 - 2s - loss: 1.6277 - accuracy: 0.3384\n",
      "Epoch 29/100\n",
      "3632/3632 - 2s - loss: 1.6276 - accuracy: 0.3384\n",
      "Epoch 30/100\n",
      "3632/3632 - 2s - loss: 1.6277 - accuracy: 0.3377\n",
      "Epoch 31/100\n",
      "3632/3632 - 2s - loss: 1.6273 - accuracy: 0.3386\n",
      "Epoch 32/100\n",
      "3632/3632 - 2s - loss: 1.6270 - accuracy: 0.3379\n",
      "Epoch 33/100\n",
      "3632/3632 - 2s - loss: 1.6266 - accuracy: 0.3387\n",
      "Epoch 34/100\n",
      "3632/3632 - 2s - loss: 1.6264 - accuracy: 0.3385\n",
      "Epoch 35/100\n",
      "3632/3632 - 2s - loss: 1.6259 - accuracy: 0.3392\n",
      "Epoch 36/100\n",
      "3632/3632 - 2s - loss: 1.6257 - accuracy: 0.3392\n",
      "Epoch 37/100\n",
      "3632/3632 - 2s - loss: 1.6258 - accuracy: 0.3395\n",
      "Epoch 38/100\n",
      "3632/3632 - 2s - loss: 1.6253 - accuracy: 0.3386\n",
      "Epoch 39/100\n",
      "3632/3632 - 2s - loss: 1.6254 - accuracy: 0.3394\n",
      "Epoch 40/100\n",
      "3632/3632 - 2s - loss: 1.6253 - accuracy: 0.3389\n",
      "Epoch 41/100\n",
      "3632/3632 - 2s - loss: 1.6247 - accuracy: 0.3383\n",
      "Epoch 42/100\n",
      "3632/3632 - 2s - loss: 1.6250 - accuracy: 0.3390\n",
      "Epoch 43/100\n",
      "3632/3632 - 2s - loss: 1.6249 - accuracy: 0.3389\n",
      "Epoch 44/100\n",
      "3632/3632 - 2s - loss: 1.6243 - accuracy: 0.3389\n",
      "Epoch 45/100\n",
      "3632/3632 - 2s - loss: 1.6246 - accuracy: 0.3395\n",
      "Epoch 46/100\n",
      "3632/3632 - 2s - loss: 1.6242 - accuracy: 0.3395\n",
      "Epoch 47/100\n",
      "3632/3632 - 2s - loss: 1.6240 - accuracy: 0.3393\n",
      "Epoch 48/100\n",
      "3632/3632 - 2s - loss: 1.6237 - accuracy: 0.3396\n",
      "Epoch 49/100\n",
      "3632/3632 - 2s - loss: 1.6235 - accuracy: 0.3400\n",
      "Epoch 50/100\n",
      "3632/3632 - 2s - loss: 1.6236 - accuracy: 0.3399\n",
      "Epoch 51/100\n",
      "3632/3632 - 2s - loss: 1.6235 - accuracy: 0.3390\n",
      "Epoch 52/100\n",
      "3632/3632 - 2s - loss: 1.6234 - accuracy: 0.3402\n",
      "Epoch 53/100\n",
      "3632/3632 - 2s - loss: 1.6231 - accuracy: 0.3393\n",
      "Epoch 54/100\n",
      "3632/3632 - 2s - loss: 1.6233 - accuracy: 0.3400\n",
      "Epoch 55/100\n",
      "3632/3632 - 2s - loss: 1.6231 - accuracy: 0.3391\n",
      "Epoch 56/100\n",
      "3632/3632 - 2s - loss: 1.6228 - accuracy: 0.3409\n",
      "Epoch 57/100\n",
      "3632/3632 - 2s - loss: 1.6228 - accuracy: 0.3401\n",
      "Epoch 58/100\n",
      "3632/3632 - 2s - loss: 1.6227 - accuracy: 0.3398\n",
      "Epoch 59/100\n",
      "3632/3632 - 2s - loss: 1.6225 - accuracy: 0.3399\n",
      "Epoch 60/100\n",
      "3632/3632 - 2s - loss: 1.6225 - accuracy: 0.3397\n",
      "Epoch 61/100\n",
      "3632/3632 - 2s - loss: 1.6227 - accuracy: 0.3394\n",
      "Epoch 62/100\n",
      "3632/3632 - 2s - loss: 1.6222 - accuracy: 0.3388\n",
      "Epoch 63/100\n",
      "3632/3632 - 2s - loss: 1.6221 - accuracy: 0.3405\n",
      "Epoch 64/100\n",
      "3632/3632 - 2s - loss: 1.6222 - accuracy: 0.3391\n",
      "Epoch 65/100\n",
      "3632/3632 - 2s - loss: 1.6217 - accuracy: 0.3398\n",
      "Epoch 66/100\n",
      "3632/3632 - 2s - loss: 1.6221 - accuracy: 0.3398\n",
      "Epoch 67/100\n",
      "3632/3632 - 2s - loss: 1.6219 - accuracy: 0.3399\n",
      "Epoch 68/100\n",
      "3632/3632 - 2s - loss: 1.6218 - accuracy: 0.3390\n",
      "Epoch 69/100\n",
      "3632/3632 - 2s - loss: 1.6221 - accuracy: 0.3396\n",
      "Epoch 70/100\n",
      "3632/3632 - 2s - loss: 1.6215 - accuracy: 0.3398\n",
      "Epoch 71/100\n",
      "3632/3632 - 2s - loss: 1.6217 - accuracy: 0.3391\n",
      "Epoch 72/100\n",
      "3632/3632 - 2s - loss: 1.6216 - accuracy: 0.3397\n",
      "Epoch 73/100\n",
      "3632/3632 - 2s - loss: 1.6212 - accuracy: 0.3390\n",
      "Epoch 74/100\n",
      "3632/3632 - 2s - loss: 1.6212 - accuracy: 0.3403\n",
      "Epoch 75/100\n",
      "3632/3632 - 2s - loss: 1.6211 - accuracy: 0.3405\n",
      "Epoch 76/100\n",
      "3632/3632 - 2s - loss: 1.6212 - accuracy: 0.3404\n",
      "Epoch 77/100\n",
      "3632/3632 - 2s - loss: 1.6209 - accuracy: 0.3410\n",
      "Epoch 78/100\n",
      "3632/3632 - 2s - loss: 1.6208 - accuracy: 0.3404\n",
      "Epoch 79/100\n",
      "3632/3632 - 2s - loss: 1.6210 - accuracy: 0.3403\n",
      "Epoch 80/100\n",
      "3632/3632 - 2s - loss: 1.6206 - accuracy: 0.3399\n",
      "Epoch 81/100\n",
      "3632/3632 - 2s - loss: 1.6213 - accuracy: 0.3396\n",
      "Epoch 82/100\n",
      "3632/3632 - 2s - loss: 1.6210 - accuracy: 0.3404\n",
      "Epoch 83/100\n",
      "3632/3632 - 2s - loss: 1.6210 - accuracy: 0.3398\n",
      "Epoch 84/100\n",
      "3632/3632 - 2s - loss: 1.6207 - accuracy: 0.3395\n",
      "Epoch 85/100\n",
      "3632/3632 - 2s - loss: 1.6202 - accuracy: 0.3417\n",
      "Epoch 86/100\n",
      "3632/3632 - 2s - loss: 1.6204 - accuracy: 0.3404\n",
      "Epoch 87/100\n",
      "3632/3632 - 2s - loss: 1.6206 - accuracy: 0.3400\n",
      "Epoch 88/100\n",
      "3632/3632 - 2s - loss: 1.6204 - accuracy: 0.3395\n",
      "Epoch 89/100\n",
      "3632/3632 - 2s - loss: 1.6206 - accuracy: 0.3406\n",
      "Epoch 90/100\n",
      "3632/3632 - 2s - loss: 1.6203 - accuracy: 0.3394\n",
      "Epoch 91/100\n",
      "3632/3632 - 2s - loss: 1.6200 - accuracy: 0.3396\n",
      "Epoch 92/100\n",
      "3632/3632 - 2s - loss: 1.6202 - accuracy: 0.3397\n",
      "Epoch 93/100\n",
      "3632/3632 - 2s - loss: 1.6203 - accuracy: 0.3401\n",
      "Epoch 94/100\n",
      "3632/3632 - 2s - loss: 1.6199 - accuracy: 0.3405\n",
      "Epoch 95/100\n",
      "3632/3632 - 2s - loss: 1.6200 - accuracy: 0.3403\n",
      "Epoch 96/100\n",
      "3632/3632 - 2s - loss: 1.6198 - accuracy: 0.3409\n",
      "Epoch 97/100\n",
      "3632/3632 - 2s - loss: 1.6198 - accuracy: 0.3393\n",
      "Epoch 98/100\n",
      "3632/3632 - 2s - loss: 1.6199 - accuracy: 0.3396\n",
      "Epoch 99/100\n",
      "3632/3632 - 2s - loss: 1.6197 - accuracy: 0.3407\n",
      "Epoch 100/100\n",
      "3632/3632 - 2s - loss: 1.6193 - accuracy: 0.3412\n"
     ]
    },
    {
     "data": {
      "text/plain": [
       "<tensorflow.python.keras.callbacks.History at 0x1ba6abe9a48>"
      ]
     },
     "execution_count": 25,
     "metadata": {},
     "output_type": "execute_result"
    }
   ],
   "source": [
    "# Fit (train) the deep model\n",
    "deep_model.fit(\n",
    "    X_train_scaled,\n",
    "    y_train_categorical,\n",
    "    epochs=100,\n",
    "    shuffle=True,\n",
    "    verbose=2\n",
    ")"
   ]
  },
  {
   "cell_type": "code",
   "execution_count": 26,
   "metadata": {},
   "outputs": [
    {
     "name": "stdout",
     "output_type": "stream",
     "text": [
      "1211/1211 - 0s - loss: 1.6531 - accuracy: 0.3297\n",
      "Deep Neural Network - Loss: 1.6531181335449219, Accuracy: 0.3297446668148041\n"
     ]
    }
   ],
   "source": [
    "# Evaluate the deep model using the testing data\n",
    "model_loss, model_accuracy = deep_model.evaluate(\n",
    "    X_test_scaled, y_test_categorical, verbose=2)\n",
    "print(f\"Deep Neural Network - Loss: {model_loss}, Accuracy: {model_accuracy}\")"
   ]
  },
  {
   "cell_type": "markdown",
   "metadata": {},
   "source": [
    "## Saving the deep model"
   ]
  },
  {
   "cell_type": "code",
   "execution_count": 27,
   "metadata": {},
   "outputs": [],
   "source": [
    "# Save the model\n",
    "deep_model.save(\"artist_billboard_trained.h5\")"
   ]
  }
 ],
 "metadata": {
  "anaconda-cloud": {},
  "kernelspec": {
   "display_name": "Python 3",
   "language": "python",
   "name": "python3"
  },
  "language_info": {
   "codemirror_mode": {
    "name": "ipython",
    "version": 3
   },
   "file_extension": ".py",
   "mimetype": "text/x-python",
   "name": "python",
   "nbconvert_exporter": "python",
   "pygments_lexer": "ipython3",
   "version": "3.7.6"
  }
 },
 "nbformat": 4,
 "nbformat_minor": 2
}
